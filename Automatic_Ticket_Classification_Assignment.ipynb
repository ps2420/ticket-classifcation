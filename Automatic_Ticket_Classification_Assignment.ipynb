{
 "cells": [
  {
   "cell_type": "markdown",
   "metadata": {
    "id": "rhR-ZUkwJrFn"
   },
   "source": [
    "## Problem Statement \n",
    "\n",
    "You need to build a model that is able to classify customer complaints based on the products/services. By doing so, you can segregate these tickets into their relevant categories and, therefore, help in the quick resolution of the issue.\n",
    "\n",
    "You will be doing topic modelling on the <b>.json</b> data provided by the company. Since this data is not labelled, you need to apply NMF to analyse patterns and classify tickets into the following five clusters based on their products/services:\n",
    "\n",
    "* Credit card / Prepaid card\n",
    "\n",
    "* Bank account services\n",
    "\n",
    "* Theft/Dispute reporting\n",
    "\n",
    "* Mortgages/loans\n",
    "\n",
    "* Others \n",
    "\n",
    "\n",
    "With the help of topic modelling, you will be able to map each ticket onto its respective department/category. You can then use this data to train any supervised model such as logistic regression, decision tree or random forest. Using this trained model, you can classify any new customer complaint support ticket into its relevant department."
   ]
  },
  {
   "cell_type": "markdown",
   "metadata": {
    "id": "mcgXVNyaLUFS"
   },
   "source": [
    "## Pipelines that needs to be performed:\n",
    "\n",
    "You need to perform the following eight major tasks to complete the assignment:\n",
    "\n",
    "1.  Data loading\n",
    "\n",
    "2. Text preprocessing\n",
    "\n",
    "3. Exploratory data analysis (EDA)\n",
    "\n",
    "4. Feature extraction\n",
    "\n",
    "5. Topic modelling \n",
    "\n",
    "6. Model building using supervised learning\n",
    "\n",
    "7. Model training and evaluation\n",
    "\n",
    "8. Model inference"
   ]
  },
  {
   "cell_type": "markdown",
   "metadata": {
    "id": "JuLFIymAL58u"
   },
   "source": [
    "## Importing the necessary libraries"
   ]
  },
  {
   "cell_type": "code",
   "execution_count": 1,
   "metadata": {
    "id": "O-Q9pqrcJrFr"
   },
   "outputs": [
    {
     "name": "stdout",
     "output_type": "stream",
     "text": [
      "WARNING:tensorflow:Please fix your imports. Module tensorflow.python.training.saving.functional_saver has been moved to tensorflow.python.checkpoint.functional_saver. The old module will be deleted in version 2.11.\n",
      "WARNING:tensorflow:Please fix your imports. Module tensorflow.python.training.saving.checkpoint_options has been moved to tensorflow.python.checkpoint.checkpoint_options. The old module will be deleted in version 2.11.\n"
     ]
    }
   ],
   "source": [
    "import json \n",
    "import numpy as np\n",
    "import pandas as pd\n",
    "import re, nltk, spacy, string\n",
    "import en_core_web_sm\n",
    "nlp = en_core_web_sm.load()\n",
    "import seaborn as sns\n",
    "import matplotlib.pyplot as plt\n",
    "%matplotlib inline\n",
    "\n",
    "from plotly.offline import plot\n",
    "import plotly.graph_objects as go\n",
    "import plotly.express as px\n",
    "\n",
    "from sklearn.feature_extraction.text import CountVectorizer, TfidfVectorizer\n",
    "from pprint import pprint"
   ]
  },
  {
   "cell_type": "markdown",
   "metadata": {
    "id": "KtRLCsNVJrFt"
   },
   "source": [
    "## Loading the data\n",
    "\n",
    "The data is in JSON format and we need to convert it to a dataframe."
   ]
  },
  {
   "cell_type": "code",
   "execution_count": 2,
   "metadata": {
    "id": "puVzIf_iJrFt"
   },
   "outputs": [],
   "source": [
    "# Opening JSON file \n",
    "f = open('complaints.json') \n",
    "  \n",
    "# returns JSON object as  \n",
    "# a dictionary \n",
    "data = json.load(f)\n",
    "df=pd.json_normalize(data)"
   ]
  },
  {
   "cell_type": "markdown",
   "metadata": {
    "id": "_xYpH-sAJrFu"
   },
   "source": [
    "## Data preparation"
   ]
  },
  {
   "cell_type": "code",
   "execution_count": 3,
   "metadata": {
    "id": "Lf8ufHH5JrFu"
   },
   "outputs": [
    {
     "data": {
      "text/plain": [
       "(78313, 22)"
      ]
     },
     "execution_count": 3,
     "metadata": {},
     "output_type": "execute_result"
    }
   ],
   "source": [
    "# Inspect the dataframe to understand the given data.\n",
    "df.shape"
   ]
  },
  {
   "cell_type": "code",
   "execution_count": 4,
   "metadata": {},
   "outputs": [
    {
     "data": {
      "text/plain": [
       "_index                                object\n",
       "_type                                 object\n",
       "_id                                   object\n",
       "_score                               float64\n",
       "_source.tags                          object\n",
       "_source.zip_code                      object\n",
       "_source.complaint_id                  object\n",
       "_source.issue                         object\n",
       "_source.date_received                 object\n",
       "_source.state                         object\n",
       "_source.consumer_disputed             object\n",
       "_source.product                       object\n",
       "_source.company_response              object\n",
       "_source.company                       object\n",
       "_source.submitted_via                 object\n",
       "_source.date_sent_to_company          object\n",
       "_source.company_public_response       object\n",
       "_source.sub_product                   object\n",
       "_source.timely                        object\n",
       "_source.complaint_what_happened       object\n",
       "_source.sub_issue                     object\n",
       "_source.consumer_consent_provided     object\n",
       "dtype: object"
      ]
     },
     "execution_count": 4,
     "metadata": {},
     "output_type": "execute_result"
    }
   ],
   "source": [
    "# Check for the columns and defaulted datatype\n",
    "df.dtypes"
   ]
  },
  {
   "cell_type": "code",
   "execution_count": 5,
   "metadata": {},
   "outputs": [
    {
     "name": "stdout",
     "output_type": "stream",
     "text": [
      "Columns names:\n",
      " ['_index', '_type', '_id', '_score', '_source.tags', '_source.zip_code', '_source.complaint_id', '_source.issue', '_source.date_received', '_source.state', '_source.consumer_disputed', '_source.product', '_source.company_response', '_source.company', '_source.submitted_via', '_source.date_sent_to_company', '_source.company_public_response', '_source.sub_product', '_source.timely', '_source.complaint_what_happened', '_source.sub_issue', '_source.consumer_consent_provided']\n"
     ]
    }
   ],
   "source": [
    "#print the column names\n",
    "cols = df.columns.to_list()\n",
    "print(\"Columns names:\\n\",cols)"
   ]
  },
  {
   "cell_type": "code",
   "execution_count": 6,
   "metadata": {},
   "outputs": [
    {
     "data": {
      "text/plain": [
       "_index                                   0\n",
       "_type                                    0\n",
       "_id                                      0\n",
       "_score                                   0\n",
       "_source.tags                         67413\n",
       "_source.zip_code                      6757\n",
       "_source.complaint_id                     0\n",
       "_source.issue                            0\n",
       "_source.date_received                    0\n",
       "_source.state                         1991\n",
       "_source.consumer_disputed                0\n",
       "_source.product                          0\n",
       "_source.company_response                 0\n",
       "_source.company                          0\n",
       "_source.submitted_via                    0\n",
       "_source.date_sent_to_company             0\n",
       "_source.company_public_response      78309\n",
       "_source.sub_product                  10571\n",
       "_source.timely                           0\n",
       "_source.complaint_what_happened          0\n",
       "_source.sub_issue                    46297\n",
       "_source.consumer_consent_provided     1008\n",
       "dtype: int64"
      ]
     },
     "execution_count": 6,
     "metadata": {},
     "output_type": "execute_result"
    }
   ],
   "source": [
    "# Checking null value counts for each column.\n",
    "df.isnull().sum()"
   ]
  },
  {
   "cell_type": "markdown",
   "metadata": {},
   "source": [
    "### Insights:\n",
    " Few column name contains _ and _source , as it could be a problematic and without it the columns represents full meaning"
   ]
  },
  {
   "cell_type": "code",
   "execution_count": 7,
   "metadata": {
    "id": "FYCtKXD1JrFw"
   },
   "outputs": [
    {
     "name": "stdout",
     "output_type": "stream",
     "text": [
      "New column names:\n",
      " ['index', 'type', 'id', 'score', 'tags', 'zipcode', 'complaintid', 'issue', 'datereceived', 'state', 'consumerdisputed', 'product', 'companyresponse', 'company', 'submittedvia', 'datesenttocompany', 'companypublicresponse', 'subproduct', 'timely', 'complaintwhathappened', 'subissue', 'consumerconsentprovided'] \n",
      "\n"
     ]
    },
    {
     "data": {
      "text/html": [
       "<div>\n",
       "<style scoped>\n",
       "    .dataframe tbody tr th:only-of-type {\n",
       "        vertical-align: middle;\n",
       "    }\n",
       "\n",
       "    .dataframe tbody tr th {\n",
       "        vertical-align: top;\n",
       "    }\n",
       "\n",
       "    .dataframe thead th {\n",
       "        text-align: right;\n",
       "    }\n",
       "</style>\n",
       "<table border=\"1\" class=\"dataframe\">\n",
       "  <thead>\n",
       "    <tr style=\"text-align: right;\">\n",
       "      <th></th>\n",
       "      <th>index</th>\n",
       "      <th>type</th>\n",
       "      <th>id</th>\n",
       "      <th>score</th>\n",
       "      <th>tags</th>\n",
       "      <th>zipcode</th>\n",
       "      <th>complaintid</th>\n",
       "      <th>issue</th>\n",
       "      <th>datereceived</th>\n",
       "      <th>state</th>\n",
       "      <th>...</th>\n",
       "      <th>companyresponse</th>\n",
       "      <th>company</th>\n",
       "      <th>submittedvia</th>\n",
       "      <th>datesenttocompany</th>\n",
       "      <th>companypublicresponse</th>\n",
       "      <th>subproduct</th>\n",
       "      <th>timely</th>\n",
       "      <th>complaintwhathappened</th>\n",
       "      <th>subissue</th>\n",
       "      <th>consumerconsentprovided</th>\n",
       "    </tr>\n",
       "  </thead>\n",
       "  <tbody>\n",
       "    <tr>\n",
       "      <th>0</th>\n",
       "      <td>complaint-public-v2</td>\n",
       "      <td>complaint</td>\n",
       "      <td>3211475</td>\n",
       "      <td>0.0</td>\n",
       "      <td>None</td>\n",
       "      <td>90301</td>\n",
       "      <td>3211475</td>\n",
       "      <td>Attempts to collect debt not owed</td>\n",
       "      <td>2019-04-13T12:00:00-05:00</td>\n",
       "      <td>CA</td>\n",
       "      <td>...</td>\n",
       "      <td>Closed with explanation</td>\n",
       "      <td>JPMORGAN CHASE &amp; CO.</td>\n",
       "      <td>Web</td>\n",
       "      <td>2019-04-13T12:00:00-05:00</td>\n",
       "      <td>None</td>\n",
       "      <td>Credit card debt</td>\n",
       "      <td>Yes</td>\n",
       "      <td></td>\n",
       "      <td>Debt is not yours</td>\n",
       "      <td>Consent not provided</td>\n",
       "    </tr>\n",
       "    <tr>\n",
       "      <th>1</th>\n",
       "      <td>complaint-public-v2</td>\n",
       "      <td>complaint</td>\n",
       "      <td>3229299</td>\n",
       "      <td>0.0</td>\n",
       "      <td>Servicemember</td>\n",
       "      <td>319XX</td>\n",
       "      <td>3229299</td>\n",
       "      <td>Written notification about debt</td>\n",
       "      <td>2019-05-01T12:00:00-05:00</td>\n",
       "      <td>GA</td>\n",
       "      <td>...</td>\n",
       "      <td>Closed with explanation</td>\n",
       "      <td>JPMORGAN CHASE &amp; CO.</td>\n",
       "      <td>Web</td>\n",
       "      <td>2019-05-01T12:00:00-05:00</td>\n",
       "      <td>None</td>\n",
       "      <td>Credit card debt</td>\n",
       "      <td>Yes</td>\n",
       "      <td>Good morning my name is XXXX XXXX and I apprec...</td>\n",
       "      <td>Didn't receive enough information to verify debt</td>\n",
       "      <td>Consent provided</td>\n",
       "    </tr>\n",
       "    <tr>\n",
       "      <th>2</th>\n",
       "      <td>complaint-public-v2</td>\n",
       "      <td>complaint</td>\n",
       "      <td>3199379</td>\n",
       "      <td>0.0</td>\n",
       "      <td>None</td>\n",
       "      <td>77069</td>\n",
       "      <td>3199379</td>\n",
       "      <td>Other features, terms, or problems</td>\n",
       "      <td>2019-04-02T12:00:00-05:00</td>\n",
       "      <td>TX</td>\n",
       "      <td>...</td>\n",
       "      <td>Closed with explanation</td>\n",
       "      <td>JPMORGAN CHASE &amp; CO.</td>\n",
       "      <td>Web</td>\n",
       "      <td>2019-04-02T12:00:00-05:00</td>\n",
       "      <td>None</td>\n",
       "      <td>General-purpose credit card or charge card</td>\n",
       "      <td>Yes</td>\n",
       "      <td>I upgraded my XXXX XXXX card in XX/XX/2018 and...</td>\n",
       "      <td>Problem with rewards from credit card</td>\n",
       "      <td>Consent provided</td>\n",
       "    </tr>\n",
       "    <tr>\n",
       "      <th>3</th>\n",
       "      <td>complaint-public-v2</td>\n",
       "      <td>complaint</td>\n",
       "      <td>2673060</td>\n",
       "      <td>0.0</td>\n",
       "      <td>None</td>\n",
       "      <td>48066</td>\n",
       "      <td>2673060</td>\n",
       "      <td>Trouble during payment process</td>\n",
       "      <td>2017-09-13T12:00:00-05:00</td>\n",
       "      <td>MI</td>\n",
       "      <td>...</td>\n",
       "      <td>Closed with explanation</td>\n",
       "      <td>JPMORGAN CHASE &amp; CO.</td>\n",
       "      <td>Web</td>\n",
       "      <td>2017-09-14T12:00:00-05:00</td>\n",
       "      <td>None</td>\n",
       "      <td>Conventional home mortgage</td>\n",
       "      <td>Yes</td>\n",
       "      <td></td>\n",
       "      <td>None</td>\n",
       "      <td>Consent not provided</td>\n",
       "    </tr>\n",
       "    <tr>\n",
       "      <th>4</th>\n",
       "      <td>complaint-public-v2</td>\n",
       "      <td>complaint</td>\n",
       "      <td>3203545</td>\n",
       "      <td>0.0</td>\n",
       "      <td>None</td>\n",
       "      <td>10473</td>\n",
       "      <td>3203545</td>\n",
       "      <td>Fees or interest</td>\n",
       "      <td>2019-04-05T12:00:00-05:00</td>\n",
       "      <td>NY</td>\n",
       "      <td>...</td>\n",
       "      <td>Closed with explanation</td>\n",
       "      <td>JPMORGAN CHASE &amp; CO.</td>\n",
       "      <td>Referral</td>\n",
       "      <td>2019-04-05T12:00:00-05:00</td>\n",
       "      <td>None</td>\n",
       "      <td>General-purpose credit card or charge card</td>\n",
       "      <td>Yes</td>\n",
       "      <td></td>\n",
       "      <td>Charged too much interest</td>\n",
       "      <td>N/A</td>\n",
       "    </tr>\n",
       "  </tbody>\n",
       "</table>\n",
       "<p>5 rows × 22 columns</p>\n",
       "</div>"
      ],
      "text/plain": [
       "                 index       type       id  score           tags zipcode  \\\n",
       "0  complaint-public-v2  complaint  3211475    0.0           None   90301   \n",
       "1  complaint-public-v2  complaint  3229299    0.0  Servicemember   319XX   \n",
       "2  complaint-public-v2  complaint  3199379    0.0           None   77069   \n",
       "3  complaint-public-v2  complaint  2673060    0.0           None   48066   \n",
       "4  complaint-public-v2  complaint  3203545    0.0           None   10473   \n",
       "\n",
       "  complaintid                               issue               datereceived  \\\n",
       "0     3211475   Attempts to collect debt not owed  2019-04-13T12:00:00-05:00   \n",
       "1     3229299     Written notification about debt  2019-05-01T12:00:00-05:00   \n",
       "2     3199379  Other features, terms, or problems  2019-04-02T12:00:00-05:00   \n",
       "3     2673060      Trouble during payment process  2017-09-13T12:00:00-05:00   \n",
       "4     3203545                    Fees or interest  2019-04-05T12:00:00-05:00   \n",
       "\n",
       "  state  ...          companyresponse               company submittedvia  \\\n",
       "0    CA  ...  Closed with explanation  JPMORGAN CHASE & CO.          Web   \n",
       "1    GA  ...  Closed with explanation  JPMORGAN CHASE & CO.          Web   \n",
       "2    TX  ...  Closed with explanation  JPMORGAN CHASE & CO.          Web   \n",
       "3    MI  ...  Closed with explanation  JPMORGAN CHASE & CO.          Web   \n",
       "4    NY  ...  Closed with explanation  JPMORGAN CHASE & CO.     Referral   \n",
       "\n",
       "           datesenttocompany companypublicresponse  \\\n",
       "0  2019-04-13T12:00:00-05:00                  None   \n",
       "1  2019-05-01T12:00:00-05:00                  None   \n",
       "2  2019-04-02T12:00:00-05:00                  None   \n",
       "3  2017-09-14T12:00:00-05:00                  None   \n",
       "4  2019-04-05T12:00:00-05:00                  None   \n",
       "\n",
       "                                   subproduct timely  \\\n",
       "0                            Credit card debt    Yes   \n",
       "1                            Credit card debt    Yes   \n",
       "2  General-purpose credit card or charge card    Yes   \n",
       "3                  Conventional home mortgage    Yes   \n",
       "4  General-purpose credit card or charge card    Yes   \n",
       "\n",
       "                               complaintwhathappened  \\\n",
       "0                                                      \n",
       "1  Good morning my name is XXXX XXXX and I apprec...   \n",
       "2  I upgraded my XXXX XXXX card in XX/XX/2018 and...   \n",
       "3                                                      \n",
       "4                                                      \n",
       "\n",
       "                                           subissue consumerconsentprovided  \n",
       "0                                 Debt is not yours    Consent not provided  \n",
       "1  Didn't receive enough information to verify debt        Consent provided  \n",
       "2             Problem with rewards from credit card        Consent provided  \n",
       "3                                              None    Consent not provided  \n",
       "4                         Charged too much interest                     N/A  \n",
       "\n",
       "[5 rows x 22 columns]"
      ]
     },
     "execution_count": 7,
     "metadata": {},
     "output_type": "execute_result"
    }
   ],
   "source": [
    "# Assign new column names \n",
    "new_columns = [re.sub('source.|_','',col[1:]) for col in cols]\n",
    "print(\"New column names:\\n\",new_columns, \"\\n\")\n",
    "\n",
    "#Check for the records if new column names take affect\n",
    "df.columns = new_columns\n",
    "df.head()"
   ]
  },
  {
   "cell_type": "code",
   "execution_count": 8,
   "metadata": {},
   "outputs": [
    {
     "data": {
      "text/html": [
       "<div>\n",
       "<style scoped>\n",
       "    .dataframe tbody tr th:only-of-type {\n",
       "        vertical-align: middle;\n",
       "    }\n",
       "\n",
       "    .dataframe tbody tr th {\n",
       "        vertical-align: top;\n",
       "    }\n",
       "\n",
       "    .dataframe thead th {\n",
       "        text-align: right;\n",
       "    }\n",
       "</style>\n",
       "<table border=\"1\" class=\"dataframe\">\n",
       "  <thead>\n",
       "    <tr style=\"text-align: right;\">\n",
       "      <th></th>\n",
       "      <th>index</th>\n",
       "      <th>type</th>\n",
       "      <th>id</th>\n",
       "      <th>score</th>\n",
       "      <th>tags</th>\n",
       "      <th>zipcode</th>\n",
       "      <th>complaintid</th>\n",
       "      <th>issue</th>\n",
       "      <th>datereceived</th>\n",
       "      <th>state</th>\n",
       "      <th>...</th>\n",
       "      <th>companyresponse</th>\n",
       "      <th>company</th>\n",
       "      <th>submittedvia</th>\n",
       "      <th>datesenttocompany</th>\n",
       "      <th>companypublicresponse</th>\n",
       "      <th>subproduct</th>\n",
       "      <th>timely</th>\n",
       "      <th>complaint</th>\n",
       "      <th>subissue</th>\n",
       "      <th>consumerconsentprovided</th>\n",
       "    </tr>\n",
       "  </thead>\n",
       "  <tbody>\n",
       "    <tr>\n",
       "      <th>0</th>\n",
       "      <td>complaint-public-v2</td>\n",
       "      <td>complaint</td>\n",
       "      <td>3211475</td>\n",
       "      <td>0.0</td>\n",
       "      <td>None</td>\n",
       "      <td>90301</td>\n",
       "      <td>3211475</td>\n",
       "      <td>Attempts to collect debt not owed</td>\n",
       "      <td>2019-04-13T12:00:00-05:00</td>\n",
       "      <td>CA</td>\n",
       "      <td>...</td>\n",
       "      <td>Closed with explanation</td>\n",
       "      <td>JPMORGAN CHASE &amp; CO.</td>\n",
       "      <td>Web</td>\n",
       "      <td>2019-04-13T12:00:00-05:00</td>\n",
       "      <td>None</td>\n",
       "      <td>Credit card debt</td>\n",
       "      <td>Yes</td>\n",
       "      <td></td>\n",
       "      <td>Debt is not yours</td>\n",
       "      <td>Consent not provided</td>\n",
       "    </tr>\n",
       "    <tr>\n",
       "      <th>1</th>\n",
       "      <td>complaint-public-v2</td>\n",
       "      <td>complaint</td>\n",
       "      <td>3229299</td>\n",
       "      <td>0.0</td>\n",
       "      <td>Servicemember</td>\n",
       "      <td>319XX</td>\n",
       "      <td>3229299</td>\n",
       "      <td>Written notification about debt</td>\n",
       "      <td>2019-05-01T12:00:00-05:00</td>\n",
       "      <td>GA</td>\n",
       "      <td>...</td>\n",
       "      <td>Closed with explanation</td>\n",
       "      <td>JPMORGAN CHASE &amp; CO.</td>\n",
       "      <td>Web</td>\n",
       "      <td>2019-05-01T12:00:00-05:00</td>\n",
       "      <td>None</td>\n",
       "      <td>Credit card debt</td>\n",
       "      <td>Yes</td>\n",
       "      <td>Good morning my name is XXXX XXXX and I apprec...</td>\n",
       "      <td>Didn't receive enough information to verify debt</td>\n",
       "      <td>Consent provided</td>\n",
       "    </tr>\n",
       "    <tr>\n",
       "      <th>2</th>\n",
       "      <td>complaint-public-v2</td>\n",
       "      <td>complaint</td>\n",
       "      <td>3199379</td>\n",
       "      <td>0.0</td>\n",
       "      <td>None</td>\n",
       "      <td>77069</td>\n",
       "      <td>3199379</td>\n",
       "      <td>Other features, terms, or problems</td>\n",
       "      <td>2019-04-02T12:00:00-05:00</td>\n",
       "      <td>TX</td>\n",
       "      <td>...</td>\n",
       "      <td>Closed with explanation</td>\n",
       "      <td>JPMORGAN CHASE &amp; CO.</td>\n",
       "      <td>Web</td>\n",
       "      <td>2019-04-02T12:00:00-05:00</td>\n",
       "      <td>None</td>\n",
       "      <td>General-purpose credit card or charge card</td>\n",
       "      <td>Yes</td>\n",
       "      <td>I upgraded my XXXX XXXX card in XX/XX/2018 and...</td>\n",
       "      <td>Problem with rewards from credit card</td>\n",
       "      <td>Consent provided</td>\n",
       "    </tr>\n",
       "    <tr>\n",
       "      <th>3</th>\n",
       "      <td>complaint-public-v2</td>\n",
       "      <td>complaint</td>\n",
       "      <td>2673060</td>\n",
       "      <td>0.0</td>\n",
       "      <td>None</td>\n",
       "      <td>48066</td>\n",
       "      <td>2673060</td>\n",
       "      <td>Trouble during payment process</td>\n",
       "      <td>2017-09-13T12:00:00-05:00</td>\n",
       "      <td>MI</td>\n",
       "      <td>...</td>\n",
       "      <td>Closed with explanation</td>\n",
       "      <td>JPMORGAN CHASE &amp; CO.</td>\n",
       "      <td>Web</td>\n",
       "      <td>2017-09-14T12:00:00-05:00</td>\n",
       "      <td>None</td>\n",
       "      <td>Conventional home mortgage</td>\n",
       "      <td>Yes</td>\n",
       "      <td></td>\n",
       "      <td>None</td>\n",
       "      <td>Consent not provided</td>\n",
       "    </tr>\n",
       "    <tr>\n",
       "      <th>4</th>\n",
       "      <td>complaint-public-v2</td>\n",
       "      <td>complaint</td>\n",
       "      <td>3203545</td>\n",
       "      <td>0.0</td>\n",
       "      <td>None</td>\n",
       "      <td>10473</td>\n",
       "      <td>3203545</td>\n",
       "      <td>Fees or interest</td>\n",
       "      <td>2019-04-05T12:00:00-05:00</td>\n",
       "      <td>NY</td>\n",
       "      <td>...</td>\n",
       "      <td>Closed with explanation</td>\n",
       "      <td>JPMORGAN CHASE &amp; CO.</td>\n",
       "      <td>Referral</td>\n",
       "      <td>2019-04-05T12:00:00-05:00</td>\n",
       "      <td>None</td>\n",
       "      <td>General-purpose credit card or charge card</td>\n",
       "      <td>Yes</td>\n",
       "      <td></td>\n",
       "      <td>Charged too much interest</td>\n",
       "      <td>N/A</td>\n",
       "    </tr>\n",
       "  </tbody>\n",
       "</table>\n",
       "<p>5 rows × 22 columns</p>\n",
       "</div>"
      ],
      "text/plain": [
       "                 index       type       id  score           tags zipcode  \\\n",
       "0  complaint-public-v2  complaint  3211475    0.0           None   90301   \n",
       "1  complaint-public-v2  complaint  3229299    0.0  Servicemember   319XX   \n",
       "2  complaint-public-v2  complaint  3199379    0.0           None   77069   \n",
       "3  complaint-public-v2  complaint  2673060    0.0           None   48066   \n",
       "4  complaint-public-v2  complaint  3203545    0.0           None   10473   \n",
       "\n",
       "  complaintid                               issue               datereceived  \\\n",
       "0     3211475   Attempts to collect debt not owed  2019-04-13T12:00:00-05:00   \n",
       "1     3229299     Written notification about debt  2019-05-01T12:00:00-05:00   \n",
       "2     3199379  Other features, terms, or problems  2019-04-02T12:00:00-05:00   \n",
       "3     2673060      Trouble during payment process  2017-09-13T12:00:00-05:00   \n",
       "4     3203545                    Fees or interest  2019-04-05T12:00:00-05:00   \n",
       "\n",
       "  state  ...          companyresponse               company submittedvia  \\\n",
       "0    CA  ...  Closed with explanation  JPMORGAN CHASE & CO.          Web   \n",
       "1    GA  ...  Closed with explanation  JPMORGAN CHASE & CO.          Web   \n",
       "2    TX  ...  Closed with explanation  JPMORGAN CHASE & CO.          Web   \n",
       "3    MI  ...  Closed with explanation  JPMORGAN CHASE & CO.          Web   \n",
       "4    NY  ...  Closed with explanation  JPMORGAN CHASE & CO.     Referral   \n",
       "\n",
       "           datesenttocompany companypublicresponse  \\\n",
       "0  2019-04-13T12:00:00-05:00                  None   \n",
       "1  2019-05-01T12:00:00-05:00                  None   \n",
       "2  2019-04-02T12:00:00-05:00                  None   \n",
       "3  2017-09-14T12:00:00-05:00                  None   \n",
       "4  2019-04-05T12:00:00-05:00                  None   \n",
       "\n",
       "                                   subproduct timely  \\\n",
       "0                            Credit card debt    Yes   \n",
       "1                            Credit card debt    Yes   \n",
       "2  General-purpose credit card or charge card    Yes   \n",
       "3                  Conventional home mortgage    Yes   \n",
       "4  General-purpose credit card or charge card    Yes   \n",
       "\n",
       "                                           complaint  \\\n",
       "0                                                      \n",
       "1  Good morning my name is XXXX XXXX and I apprec...   \n",
       "2  I upgraded my XXXX XXXX card in XX/XX/2018 and...   \n",
       "3                                                      \n",
       "4                                                      \n",
       "\n",
       "                                           subissue consumerconsentprovided  \n",
       "0                                 Debt is not yours    Consent not provided  \n",
       "1  Didn't receive enough information to verify debt        Consent provided  \n",
       "2             Problem with rewards from credit card        Consent provided  \n",
       "3                                              None    Consent not provided  \n",
       "4                         Charged too much interest                     N/A  \n",
       "\n",
       "[5 rows x 22 columns]"
      ]
     },
     "execution_count": 8,
     "metadata": {},
     "output_type": "execute_result"
    }
   ],
   "source": [
    "# rename the column complaintwhathappend to complaint\n",
    "df.rename(columns = {'complaintwhathappened':'complaint'}, inplace = True)\n",
    "\n",
    "#print the top 5 rows\n",
    "df.head()"
   ]
  },
  {
   "cell_type": "markdown",
   "metadata": {
    "id": "grQUPFL5JrFx"
   },
   "source": [
    "### Assign nan in place of blanks in the complaints column "
   ]
  },
  {
   "cell_type": "code",
   "execution_count": 9,
   "metadata": {},
   "outputs": [
    {
     "data": {
      "text/plain": [
       "0"
      ]
     },
     "execution_count": 9,
     "metadata": {},
     "output_type": "execute_result"
    }
   ],
   "source": [
    "# check how many records are null \n",
    "df['complaint'].isnull().sum()"
   ]
  },
  {
   "cell_type": "code",
   "execution_count": 10,
   "metadata": {},
   "outputs": [
    {
     "name": "stdout",
     "output_type": "stream",
     "text": [
      "Number of rows with blank complaints  57241\n"
     ]
    }
   ],
   "source": [
    "# Number of rows with blank complaints\n",
    "total_blank_rows = len(df[(df['complaint'] == '') | (df['complaint'] == ' ')])\n",
    "print('Number of rows with blank complaints ', total_blank_rows)"
   ]
  },
  {
   "cell_type": "code",
   "execution_count": 11,
   "metadata": {
    "id": "Jfxd8VSmJrFy"
   },
   "outputs": [],
   "source": [
    "#Remove all rows where complaints column is nan\n",
    "df['complaint'] = df['complaint'].replace(r\"^\\s*$\",np.NaN,regex=True)"
   ]
  },
  {
   "cell_type": "code",
   "execution_count": 12,
   "metadata": {},
   "outputs": [
    {
     "name": "stdout",
     "output_type": "stream",
     "text": [
      "Columns with NAN values 57241\n",
      "Columns with blank or empty spaces 0\n"
     ]
    }
   ],
   "source": [
    "#Check for the rows with null values\n",
    "print('Columns with NAN values', df['complaint'].isnull().sum())\n",
    "\n",
    "#Check the column with blank or empty spaces,it should be zero\n",
    "total_blank_rows = len(df[(df['complaint'] == '') | (df['complaint'] == ' ')])\n",
    "print('Columns with blank or empty spaces', total_blank_rows)"
   ]
  },
  {
   "cell_type": "code",
   "execution_count": 13,
   "metadata": {},
   "outputs": [
    {
     "name": "stdout",
     "output_type": "stream",
     "text": [
      "Dataframe shape after removing the rows (21072, 22)\n"
     ]
    }
   ],
   "source": [
    "# filter the rows with nan or null values\n",
    "df = df[~df['complaint'].isnull()]\n",
    "\n",
    "#We can see that 78313 = 21072 + 57241\n",
    "print('Dataframe shape after removing the rows', df.shape)"
   ]
  },
  {
   "cell_type": "code",
   "execution_count": 14,
   "metadata": {},
   "outputs": [
    {
     "data": {
      "text/html": [
       "<div>\n",
       "<style scoped>\n",
       "    .dataframe tbody tr th:only-of-type {\n",
       "        vertical-align: middle;\n",
       "    }\n",
       "\n",
       "    .dataframe tbody tr th {\n",
       "        vertical-align: top;\n",
       "    }\n",
       "\n",
       "    .dataframe thead th {\n",
       "        text-align: right;\n",
       "    }\n",
       "</style>\n",
       "<table border=\"1\" class=\"dataframe\">\n",
       "  <thead>\n",
       "    <tr style=\"text-align: right;\">\n",
       "      <th></th>\n",
       "      <th>index</th>\n",
       "      <th>type</th>\n",
       "      <th>id</th>\n",
       "      <th>score</th>\n",
       "      <th>tags</th>\n",
       "      <th>zipcode</th>\n",
       "      <th>complaintid</th>\n",
       "      <th>issue</th>\n",
       "      <th>datereceived</th>\n",
       "      <th>state</th>\n",
       "      <th>...</th>\n",
       "      <th>companyresponse</th>\n",
       "      <th>company</th>\n",
       "      <th>submittedvia</th>\n",
       "      <th>datesenttocompany</th>\n",
       "      <th>companypublicresponse</th>\n",
       "      <th>subproduct</th>\n",
       "      <th>timely</th>\n",
       "      <th>complaint</th>\n",
       "      <th>subissue</th>\n",
       "      <th>consumerconsentprovided</th>\n",
       "    </tr>\n",
       "  </thead>\n",
       "  <tbody>\n",
       "    <tr>\n",
       "      <th>1</th>\n",
       "      <td>complaint-public-v2</td>\n",
       "      <td>complaint</td>\n",
       "      <td>3229299</td>\n",
       "      <td>0.0</td>\n",
       "      <td>Servicemember</td>\n",
       "      <td>319XX</td>\n",
       "      <td>3229299</td>\n",
       "      <td>Written notification about debt</td>\n",
       "      <td>2019-05-01T12:00:00-05:00</td>\n",
       "      <td>GA</td>\n",
       "      <td>...</td>\n",
       "      <td>Closed with explanation</td>\n",
       "      <td>JPMORGAN CHASE &amp; CO.</td>\n",
       "      <td>Web</td>\n",
       "      <td>2019-05-01T12:00:00-05:00</td>\n",
       "      <td>None</td>\n",
       "      <td>Credit card debt</td>\n",
       "      <td>Yes</td>\n",
       "      <td>Good morning my name is XXXX XXXX and I apprec...</td>\n",
       "      <td>Didn't receive enough information to verify debt</td>\n",
       "      <td>Consent provided</td>\n",
       "    </tr>\n",
       "    <tr>\n",
       "      <th>2</th>\n",
       "      <td>complaint-public-v2</td>\n",
       "      <td>complaint</td>\n",
       "      <td>3199379</td>\n",
       "      <td>0.0</td>\n",
       "      <td>None</td>\n",
       "      <td>77069</td>\n",
       "      <td>3199379</td>\n",
       "      <td>Other features, terms, or problems</td>\n",
       "      <td>2019-04-02T12:00:00-05:00</td>\n",
       "      <td>TX</td>\n",
       "      <td>...</td>\n",
       "      <td>Closed with explanation</td>\n",
       "      <td>JPMORGAN CHASE &amp; CO.</td>\n",
       "      <td>Web</td>\n",
       "      <td>2019-04-02T12:00:00-05:00</td>\n",
       "      <td>None</td>\n",
       "      <td>General-purpose credit card or charge card</td>\n",
       "      <td>Yes</td>\n",
       "      <td>I upgraded my XXXX XXXX card in XX/XX/2018 and...</td>\n",
       "      <td>Problem with rewards from credit card</td>\n",
       "      <td>Consent provided</td>\n",
       "    </tr>\n",
       "    <tr>\n",
       "      <th>10</th>\n",
       "      <td>complaint-public-v2</td>\n",
       "      <td>complaint</td>\n",
       "      <td>3233499</td>\n",
       "      <td>0.0</td>\n",
       "      <td>None</td>\n",
       "      <td>104XX</td>\n",
       "      <td>3233499</td>\n",
       "      <td>Incorrect information on your report</td>\n",
       "      <td>2019-05-06T12:00:00-05:00</td>\n",
       "      <td>NY</td>\n",
       "      <td>...</td>\n",
       "      <td>Closed with explanation</td>\n",
       "      <td>JPMORGAN CHASE &amp; CO.</td>\n",
       "      <td>Web</td>\n",
       "      <td>2019-05-06T12:00:00-05:00</td>\n",
       "      <td>None</td>\n",
       "      <td>Other personal consumer report</td>\n",
       "      <td>Yes</td>\n",
       "      <td>Chase Card was reported on XX/XX/2019. However...</td>\n",
       "      <td>Information belongs to someone else</td>\n",
       "      <td>Consent provided</td>\n",
       "    </tr>\n",
       "    <tr>\n",
       "      <th>11</th>\n",
       "      <td>complaint-public-v2</td>\n",
       "      <td>complaint</td>\n",
       "      <td>3180294</td>\n",
       "      <td>0.0</td>\n",
       "      <td>None</td>\n",
       "      <td>750XX</td>\n",
       "      <td>3180294</td>\n",
       "      <td>Incorrect information on your report</td>\n",
       "      <td>2019-03-14T12:00:00-05:00</td>\n",
       "      <td>TX</td>\n",
       "      <td>...</td>\n",
       "      <td>Closed with explanation</td>\n",
       "      <td>JPMORGAN CHASE &amp; CO.</td>\n",
       "      <td>Web</td>\n",
       "      <td>2019-03-15T12:00:00-05:00</td>\n",
       "      <td>None</td>\n",
       "      <td>Credit reporting</td>\n",
       "      <td>Yes</td>\n",
       "      <td>On XX/XX/2018, while trying to book a XXXX  XX...</td>\n",
       "      <td>Information belongs to someone else</td>\n",
       "      <td>Consent provided</td>\n",
       "    </tr>\n",
       "    <tr>\n",
       "      <th>14</th>\n",
       "      <td>complaint-public-v2</td>\n",
       "      <td>complaint</td>\n",
       "      <td>3224980</td>\n",
       "      <td>0.0</td>\n",
       "      <td>None</td>\n",
       "      <td>920XX</td>\n",
       "      <td>3224980</td>\n",
       "      <td>Managing an account</td>\n",
       "      <td>2019-04-27T12:00:00-05:00</td>\n",
       "      <td>CA</td>\n",
       "      <td>...</td>\n",
       "      <td>Closed with explanation</td>\n",
       "      <td>JPMORGAN CHASE &amp; CO.</td>\n",
       "      <td>Web</td>\n",
       "      <td>2019-04-27T12:00:00-05:00</td>\n",
       "      <td>None</td>\n",
       "      <td>Checking account</td>\n",
       "      <td>Yes</td>\n",
       "      <td>my grand son give me check for {$1600.00} i de...</td>\n",
       "      <td>Funds not handled or disbursed as instructed</td>\n",
       "      <td>Consent provided</td>\n",
       "    </tr>\n",
       "  </tbody>\n",
       "</table>\n",
       "<p>5 rows × 22 columns</p>\n",
       "</div>"
      ],
      "text/plain": [
       "                  index       type       id  score           tags zipcode  \\\n",
       "1   complaint-public-v2  complaint  3229299    0.0  Servicemember   319XX   \n",
       "2   complaint-public-v2  complaint  3199379    0.0           None   77069   \n",
       "10  complaint-public-v2  complaint  3233499    0.0           None   104XX   \n",
       "11  complaint-public-v2  complaint  3180294    0.0           None   750XX   \n",
       "14  complaint-public-v2  complaint  3224980    0.0           None   920XX   \n",
       "\n",
       "   complaintid                                 issue  \\\n",
       "1      3229299       Written notification about debt   \n",
       "2      3199379    Other features, terms, or problems   \n",
       "10     3233499  Incorrect information on your report   \n",
       "11     3180294  Incorrect information on your report   \n",
       "14     3224980                   Managing an account   \n",
       "\n",
       "                 datereceived state  ...          companyresponse  \\\n",
       "1   2019-05-01T12:00:00-05:00    GA  ...  Closed with explanation   \n",
       "2   2019-04-02T12:00:00-05:00    TX  ...  Closed with explanation   \n",
       "10  2019-05-06T12:00:00-05:00    NY  ...  Closed with explanation   \n",
       "11  2019-03-14T12:00:00-05:00    TX  ...  Closed with explanation   \n",
       "14  2019-04-27T12:00:00-05:00    CA  ...  Closed with explanation   \n",
       "\n",
       "                 company submittedvia          datesenttocompany  \\\n",
       "1   JPMORGAN CHASE & CO.          Web  2019-05-01T12:00:00-05:00   \n",
       "2   JPMORGAN CHASE & CO.          Web  2019-04-02T12:00:00-05:00   \n",
       "10  JPMORGAN CHASE & CO.          Web  2019-05-06T12:00:00-05:00   \n",
       "11  JPMORGAN CHASE & CO.          Web  2019-03-15T12:00:00-05:00   \n",
       "14  JPMORGAN CHASE & CO.          Web  2019-04-27T12:00:00-05:00   \n",
       "\n",
       "   companypublicresponse                                  subproduct timely  \\\n",
       "1                   None                            Credit card debt    Yes   \n",
       "2                   None  General-purpose credit card or charge card    Yes   \n",
       "10                  None              Other personal consumer report    Yes   \n",
       "11                  None                            Credit reporting    Yes   \n",
       "14                  None                            Checking account    Yes   \n",
       "\n",
       "                                            complaint  \\\n",
       "1   Good morning my name is XXXX XXXX and I apprec...   \n",
       "2   I upgraded my XXXX XXXX card in XX/XX/2018 and...   \n",
       "10  Chase Card was reported on XX/XX/2019. However...   \n",
       "11  On XX/XX/2018, while trying to book a XXXX  XX...   \n",
       "14  my grand son give me check for {$1600.00} i de...   \n",
       "\n",
       "                                            subissue consumerconsentprovided  \n",
       "1   Didn't receive enough information to verify debt        Consent provided  \n",
       "2              Problem with rewards from credit card        Consent provided  \n",
       "10               Information belongs to someone else        Consent provided  \n",
       "11               Information belongs to someone else        Consent provided  \n",
       "14      Funds not handled or disbursed as instructed        Consent provided  \n",
       "\n",
       "[5 rows x 22 columns]"
      ]
     },
     "execution_count": 14,
     "metadata": {},
     "output_type": "execute_result"
    }
   ],
   "source": [
    "df.head()"
   ]
  },
  {
   "cell_type": "markdown",
   "metadata": {
    "id": "L944HZpsJrFy"
   },
   "source": [
    "## Prepare the text for topic modeling\n",
    "\n",
    "Once you have removed all the blank complaints, you need to:\n",
    "\n",
    "* Make the text lowercase\n",
    "* Remove text in square brackets\n",
    "* Remove punctuation\n",
    "* Remove words containing numbers\n",
    "\n",
    "\n",
    "Once you have done these cleaning operations you need to perform the following:\n",
    "* Lemmatize the texts\n",
    "* Extract the POS tags of the lemmatized text and remove all the words which have tags other than NN[tag == \"NN\"].\n"
   ]
  },
  {
   "cell_type": "code",
   "execution_count": 15,
   "metadata": {
    "id": "qm7SjjSkJrFz"
   },
   "outputs": [
    {
     "data": {
      "text/plain": [
       "1        good morning my name is xxxx xxxx and i apprec...\n",
       "2        i upgraded my xxxx xxxx card in  and was told ...\n",
       "10       chase card was reported on  however fraudulent...\n",
       "11       on  while trying to book a xxxx  xxxx  ticket ...\n",
       "14       my grand son give me check for  i deposit it i...\n",
       "                               ...                        \n",
       "78303    after being a chase card customer for well ove...\n",
       "78309    on wednesday xxxxxxxx i called chas my xxxx xx...\n",
       "78310    i am not familiar with xxxx pay and did not un...\n",
       "78311    i have had flawless credit for  yrs ive had ch...\n",
       "78312    roughly  years ago i closed out my accounts wi...\n",
       "Name: complaint_cleaned, Length: 21072, dtype: object"
      ]
     },
     "execution_count": 15,
     "metadata": {},
     "output_type": "execute_result"
    }
   ],
   "source": [
    "# Write your function here to clean the text and remove all the unnecessary elements.\n",
    "def preProcessText(value):\n",
    "    value = value.lower() # to lower case\n",
    "    value = value.strip() # trim operation\n",
    "    value = re.sub(r\"[\\[].*?[\\]]\",\"\",value).strip() #remove within square bracket\n",
    "    value = re.sub(r\"[^\\w\\s]\",\"\",value).strip() # remove punctuation\n",
    "    value = re.sub(\"\\S*\\d\\S*\",\"\",value).strip() # remove wors containing numbers\n",
    "    return value\n",
    "\n",
    "df['complaint_cleaned'] = df['complaint'].apply(preProcessText)\n",
    "\n",
    "df['complaint_cleaned'] "
   ]
  },
  {
   "cell_type": "code",
   "execution_count": 16,
   "metadata": {},
   "outputs": [
    {
     "data": {
      "text/html": [
       "<div>\n",
       "<style scoped>\n",
       "    .dataframe tbody tr th:only-of-type {\n",
       "        vertical-align: middle;\n",
       "    }\n",
       "\n",
       "    .dataframe tbody tr th {\n",
       "        vertical-align: top;\n",
       "    }\n",
       "\n",
       "    .dataframe thead th {\n",
       "        text-align: right;\n",
       "    }\n",
       "</style>\n",
       "<table border=\"1\" class=\"dataframe\">\n",
       "  <thead>\n",
       "    <tr style=\"text-align: right;\">\n",
       "      <th></th>\n",
       "      <th>index</th>\n",
       "      <th>type</th>\n",
       "      <th>id</th>\n",
       "      <th>score</th>\n",
       "      <th>tags</th>\n",
       "      <th>zipcode</th>\n",
       "      <th>complaintid</th>\n",
       "      <th>issue</th>\n",
       "      <th>datereceived</th>\n",
       "      <th>state</th>\n",
       "      <th>...</th>\n",
       "      <th>company</th>\n",
       "      <th>submittedvia</th>\n",
       "      <th>datesenttocompany</th>\n",
       "      <th>companypublicresponse</th>\n",
       "      <th>subproduct</th>\n",
       "      <th>timely</th>\n",
       "      <th>complaint</th>\n",
       "      <th>subissue</th>\n",
       "      <th>consumerconsentprovided</th>\n",
       "      <th>complaint_cleaned</th>\n",
       "    </tr>\n",
       "  </thead>\n",
       "  <tbody>\n",
       "    <tr>\n",
       "      <th>1</th>\n",
       "      <td>complaint-public-v2</td>\n",
       "      <td>complaint</td>\n",
       "      <td>3229299</td>\n",
       "      <td>0.0</td>\n",
       "      <td>Servicemember</td>\n",
       "      <td>319XX</td>\n",
       "      <td>3229299</td>\n",
       "      <td>Written notification about debt</td>\n",
       "      <td>2019-05-01T12:00:00-05:00</td>\n",
       "      <td>GA</td>\n",
       "      <td>...</td>\n",
       "      <td>JPMORGAN CHASE &amp; CO.</td>\n",
       "      <td>Web</td>\n",
       "      <td>2019-05-01T12:00:00-05:00</td>\n",
       "      <td>None</td>\n",
       "      <td>Credit card debt</td>\n",
       "      <td>Yes</td>\n",
       "      <td>Good morning my name is XXXX XXXX and I apprec...</td>\n",
       "      <td>Didn't receive enough information to verify debt</td>\n",
       "      <td>Consent provided</td>\n",
       "      <td>good morning my name is xxxx xxxx and i apprec...</td>\n",
       "    </tr>\n",
       "    <tr>\n",
       "      <th>2</th>\n",
       "      <td>complaint-public-v2</td>\n",
       "      <td>complaint</td>\n",
       "      <td>3199379</td>\n",
       "      <td>0.0</td>\n",
       "      <td>None</td>\n",
       "      <td>77069</td>\n",
       "      <td>3199379</td>\n",
       "      <td>Other features, terms, or problems</td>\n",
       "      <td>2019-04-02T12:00:00-05:00</td>\n",
       "      <td>TX</td>\n",
       "      <td>...</td>\n",
       "      <td>JPMORGAN CHASE &amp; CO.</td>\n",
       "      <td>Web</td>\n",
       "      <td>2019-04-02T12:00:00-05:00</td>\n",
       "      <td>None</td>\n",
       "      <td>General-purpose credit card or charge card</td>\n",
       "      <td>Yes</td>\n",
       "      <td>I upgraded my XXXX XXXX card in XX/XX/2018 and...</td>\n",
       "      <td>Problem with rewards from credit card</td>\n",
       "      <td>Consent provided</td>\n",
       "      <td>i upgraded my xxxx xxxx card in  and was told ...</td>\n",
       "    </tr>\n",
       "    <tr>\n",
       "      <th>10</th>\n",
       "      <td>complaint-public-v2</td>\n",
       "      <td>complaint</td>\n",
       "      <td>3233499</td>\n",
       "      <td>0.0</td>\n",
       "      <td>None</td>\n",
       "      <td>104XX</td>\n",
       "      <td>3233499</td>\n",
       "      <td>Incorrect information on your report</td>\n",
       "      <td>2019-05-06T12:00:00-05:00</td>\n",
       "      <td>NY</td>\n",
       "      <td>...</td>\n",
       "      <td>JPMORGAN CHASE &amp; CO.</td>\n",
       "      <td>Web</td>\n",
       "      <td>2019-05-06T12:00:00-05:00</td>\n",
       "      <td>None</td>\n",
       "      <td>Other personal consumer report</td>\n",
       "      <td>Yes</td>\n",
       "      <td>Chase Card was reported on XX/XX/2019. However...</td>\n",
       "      <td>Information belongs to someone else</td>\n",
       "      <td>Consent provided</td>\n",
       "      <td>chase card was reported on  however fraudulent...</td>\n",
       "    </tr>\n",
       "    <tr>\n",
       "      <th>11</th>\n",
       "      <td>complaint-public-v2</td>\n",
       "      <td>complaint</td>\n",
       "      <td>3180294</td>\n",
       "      <td>0.0</td>\n",
       "      <td>None</td>\n",
       "      <td>750XX</td>\n",
       "      <td>3180294</td>\n",
       "      <td>Incorrect information on your report</td>\n",
       "      <td>2019-03-14T12:00:00-05:00</td>\n",
       "      <td>TX</td>\n",
       "      <td>...</td>\n",
       "      <td>JPMORGAN CHASE &amp; CO.</td>\n",
       "      <td>Web</td>\n",
       "      <td>2019-03-15T12:00:00-05:00</td>\n",
       "      <td>None</td>\n",
       "      <td>Credit reporting</td>\n",
       "      <td>Yes</td>\n",
       "      <td>On XX/XX/2018, while trying to book a XXXX  XX...</td>\n",
       "      <td>Information belongs to someone else</td>\n",
       "      <td>Consent provided</td>\n",
       "      <td>on  while trying to book a xxxx  xxxx  ticket ...</td>\n",
       "    </tr>\n",
       "    <tr>\n",
       "      <th>14</th>\n",
       "      <td>complaint-public-v2</td>\n",
       "      <td>complaint</td>\n",
       "      <td>3224980</td>\n",
       "      <td>0.0</td>\n",
       "      <td>None</td>\n",
       "      <td>920XX</td>\n",
       "      <td>3224980</td>\n",
       "      <td>Managing an account</td>\n",
       "      <td>2019-04-27T12:00:00-05:00</td>\n",
       "      <td>CA</td>\n",
       "      <td>...</td>\n",
       "      <td>JPMORGAN CHASE &amp; CO.</td>\n",
       "      <td>Web</td>\n",
       "      <td>2019-04-27T12:00:00-05:00</td>\n",
       "      <td>None</td>\n",
       "      <td>Checking account</td>\n",
       "      <td>Yes</td>\n",
       "      <td>my grand son give me check for {$1600.00} i de...</td>\n",
       "      <td>Funds not handled or disbursed as instructed</td>\n",
       "      <td>Consent provided</td>\n",
       "      <td>my grand son give me check for  i deposit it i...</td>\n",
       "    </tr>\n",
       "  </tbody>\n",
       "</table>\n",
       "<p>5 rows × 23 columns</p>\n",
       "</div>"
      ],
      "text/plain": [
       "                  index       type       id  score           tags zipcode  \\\n",
       "1   complaint-public-v2  complaint  3229299    0.0  Servicemember   319XX   \n",
       "2   complaint-public-v2  complaint  3199379    0.0           None   77069   \n",
       "10  complaint-public-v2  complaint  3233499    0.0           None   104XX   \n",
       "11  complaint-public-v2  complaint  3180294    0.0           None   750XX   \n",
       "14  complaint-public-v2  complaint  3224980    0.0           None   920XX   \n",
       "\n",
       "   complaintid                                 issue  \\\n",
       "1      3229299       Written notification about debt   \n",
       "2      3199379    Other features, terms, or problems   \n",
       "10     3233499  Incorrect information on your report   \n",
       "11     3180294  Incorrect information on your report   \n",
       "14     3224980                   Managing an account   \n",
       "\n",
       "                 datereceived state  ...               company submittedvia  \\\n",
       "1   2019-05-01T12:00:00-05:00    GA  ...  JPMORGAN CHASE & CO.          Web   \n",
       "2   2019-04-02T12:00:00-05:00    TX  ...  JPMORGAN CHASE & CO.          Web   \n",
       "10  2019-05-06T12:00:00-05:00    NY  ...  JPMORGAN CHASE & CO.          Web   \n",
       "11  2019-03-14T12:00:00-05:00    TX  ...  JPMORGAN CHASE & CO.          Web   \n",
       "14  2019-04-27T12:00:00-05:00    CA  ...  JPMORGAN CHASE & CO.          Web   \n",
       "\n",
       "            datesenttocompany companypublicresponse  \\\n",
       "1   2019-05-01T12:00:00-05:00                  None   \n",
       "2   2019-04-02T12:00:00-05:00                  None   \n",
       "10  2019-05-06T12:00:00-05:00                  None   \n",
       "11  2019-03-15T12:00:00-05:00                  None   \n",
       "14  2019-04-27T12:00:00-05:00                  None   \n",
       "\n",
       "                                    subproduct timely  \\\n",
       "1                             Credit card debt    Yes   \n",
       "2   General-purpose credit card or charge card    Yes   \n",
       "10              Other personal consumer report    Yes   \n",
       "11                            Credit reporting    Yes   \n",
       "14                            Checking account    Yes   \n",
       "\n",
       "                                            complaint  \\\n",
       "1   Good morning my name is XXXX XXXX and I apprec...   \n",
       "2   I upgraded my XXXX XXXX card in XX/XX/2018 and...   \n",
       "10  Chase Card was reported on XX/XX/2019. However...   \n",
       "11  On XX/XX/2018, while trying to book a XXXX  XX...   \n",
       "14  my grand son give me check for {$1600.00} i de...   \n",
       "\n",
       "                                            subissue consumerconsentprovided  \\\n",
       "1   Didn't receive enough information to verify debt        Consent provided   \n",
       "2              Problem with rewards from credit card        Consent provided   \n",
       "10               Information belongs to someone else        Consent provided   \n",
       "11               Information belongs to someone else        Consent provided   \n",
       "14      Funds not handled or disbursed as instructed        Consent provided   \n",
       "\n",
       "                                    complaint_cleaned  \n",
       "1   good morning my name is xxxx xxxx and i apprec...  \n",
       "2   i upgraded my xxxx xxxx card in  and was told ...  \n",
       "10  chase card was reported on  however fraudulent...  \n",
       "11  on  while trying to book a xxxx  xxxx  ticket ...  \n",
       "14  my grand son give me check for  i deposit it i...  \n",
       "\n",
       "[5 rows x 23 columns]"
      ]
     },
     "execution_count": 16,
     "metadata": {},
     "output_type": "execute_result"
    }
   ],
   "source": [
    "df.head()"
   ]
  },
  {
   "cell_type": "markdown",
   "metadata": {
    "id": "zgOu8t8HJrFz"
   },
   "source": [
    "### Write your function to Lemmatize the texts"
   ]
  },
  {
   "cell_type": "code",
   "execution_count": 17,
   "metadata": {},
   "outputs": [
    {
     "name": "stderr",
     "output_type": "stream",
     "text": [
      "[nltk_data] Downloading package stopwords to\n",
      "[nltk_data]     /Users/nyashasingh/nltk_data...\n",
      "[nltk_data]   Package stopwords is already up-to-date!\n",
      "[nltk_data] Downloading package punkt to\n",
      "[nltk_data]     /Users/nyashasingh/nltk_data...\n",
      "[nltk_data]   Package punkt is already up-to-date!\n",
      "[nltk_data] Downloading package averaged_perceptron_tagger to\n",
      "[nltk_data]     /Users/nyashasingh/nltk_data...\n",
      "[nltk_data]   Package averaged_perceptron_tagger is already up-to-\n",
      "[nltk_data]       date!\n",
      "[nltk_data] Downloading package wordnet to\n",
      "[nltk_data]     /Users/nyashasingh/nltk_data...\n",
      "[nltk_data]   Package wordnet is already up-to-date!\n"
     ]
    },
    {
     "name": "stdout",
     "output_type": "stream",
     "text": [
      "Requirement already satisfied: swifter in /Users/nyashasingh/opt/anaconda3/lib/python3.7/site-packages (1.2.0)\n",
      "Requirement already satisfied: psutil>=5.6.6 in /Users/nyashasingh/opt/anaconda3/lib/python3.7/site-packages (from swifter) (5.6.7)\n",
      "Requirement already satisfied: tqdm>=4.33.0 in /Users/nyashasingh/opt/anaconda3/lib/python3.7/site-packages (from swifter) (4.42.1)\n",
      "Requirement already satisfied: bleach>=3.1.1 in /Users/nyashasingh/opt/anaconda3/lib/python3.7/site-packages (from swifter) (5.0.1)\n",
      "Requirement already satisfied: dask[dataframe]>=2.10.0 in /Users/nyashasingh/opt/anaconda3/lib/python3.7/site-packages (from swifter) (2.11.0)\n",
      "Requirement already satisfied: cloudpickle>=0.2.2 in /Users/nyashasingh/opt/anaconda3/lib/python3.7/site-packages (from swifter) (1.3.0)\n",
      "Requirement already satisfied: ipywidgets>=7.0.0 in /Users/nyashasingh/opt/anaconda3/lib/python3.7/site-packages (from swifter) (7.5.1)\n",
      "Requirement already satisfied: parso>0.4.0 in /Users/nyashasingh/opt/anaconda3/lib/python3.7/site-packages (from swifter) (0.5.2)\n",
      "Requirement already satisfied: pandas>=1.0.0 in /Users/nyashasingh/opt/anaconda3/lib/python3.7/site-packages (from swifter) (1.0.1)\n",
      "Requirement already satisfied: six>=1.9.0 in /Users/nyashasingh/opt/anaconda3/lib/python3.7/site-packages (from bleach>=3.1.1->swifter) (1.14.0)\n",
      "Requirement already satisfied: webencodings in /Users/nyashasingh/opt/anaconda3/lib/python3.7/site-packages (from bleach>=3.1.1->swifter) (0.5.1)\n",
      "Requirement already satisfied: numpy>=1.13.0 in /Users/nyashasingh/opt/anaconda3/lib/python3.7/site-packages (from dask[dataframe]>=2.10.0->swifter) (1.21.6)\n",
      "Requirement already satisfied: fsspec>=0.6.0 in /Users/nyashasingh/opt/anaconda3/lib/python3.7/site-packages (from dask[dataframe]>=2.10.0->swifter) (0.6.2)\n",
      "Requirement already satisfied: toolz>=0.7.3 in /Users/nyashasingh/opt/anaconda3/lib/python3.7/site-packages (from dask[dataframe]>=2.10.0->swifter) (0.10.0)\n",
      "Requirement already satisfied: partd>=0.3.10 in /Users/nyashasingh/opt/anaconda3/lib/python3.7/site-packages (from dask[dataframe]>=2.10.0->swifter) (1.1.0)\n",
      "Requirement already satisfied: traitlets>=4.3.1 in /Users/nyashasingh/opt/anaconda3/lib/python3.7/site-packages (from ipywidgets>=7.0.0->swifter) (4.3.3)\n",
      "Requirement already satisfied: ipython>=4.0.0 in /Users/nyashasingh/opt/anaconda3/lib/python3.7/site-packages (from ipywidgets>=7.0.0->swifter) (7.12.0)\n",
      "Requirement already satisfied: widgetsnbextension~=3.5.0 in /Users/nyashasingh/opt/anaconda3/lib/python3.7/site-packages (from ipywidgets>=7.0.0->swifter) (3.5.1)\n",
      "Requirement already satisfied: ipykernel>=4.5.1 in /Users/nyashasingh/opt/anaconda3/lib/python3.7/site-packages (from ipywidgets>=7.0.0->swifter) (5.1.4)\n",
      "Requirement already satisfied: nbformat>=4.2.0 in /Users/nyashasingh/opt/anaconda3/lib/python3.7/site-packages (from ipywidgets>=7.0.0->swifter) (5.0.4)\n",
      "Requirement already satisfied: pytz>=2017.2 in /Users/nyashasingh/opt/anaconda3/lib/python3.7/site-packages (from pandas>=1.0.0->swifter) (2019.3)\n",
      "Requirement already satisfied: python-dateutil>=2.6.1 in /Users/nyashasingh/opt/anaconda3/lib/python3.7/site-packages (from pandas>=1.0.0->swifter) (2.8.1)\n",
      "Requirement already satisfied: tornado>=4.2 in /Users/nyashasingh/opt/anaconda3/lib/python3.7/site-packages (from ipykernel>=4.5.1->ipywidgets>=7.0.0->swifter) (6.0.3)\n",
      "Requirement already satisfied: appnope in /Users/nyashasingh/opt/anaconda3/lib/python3.7/site-packages (from ipykernel>=4.5.1->ipywidgets>=7.0.0->swifter) (0.1.0)\n",
      "Requirement already satisfied: jupyter-client in /Users/nyashasingh/opt/anaconda3/lib/python3.7/site-packages (from ipykernel>=4.5.1->ipywidgets>=7.0.0->swifter) (5.3.4)\n",
      "Requirement already satisfied: decorator in /Users/nyashasingh/opt/anaconda3/lib/python3.7/site-packages (from ipython>=4.0.0->ipywidgets>=7.0.0->swifter) (4.4.1)\n",
      "Requirement already satisfied: setuptools>=18.5 in /Users/nyashasingh/opt/anaconda3/lib/python3.7/site-packages (from ipython>=4.0.0->ipywidgets>=7.0.0->swifter) (46.0.0.post20200309)\n",
      "Requirement already satisfied: prompt-toolkit!=3.0.0,!=3.0.1,<3.1.0,>=2.0.0 in /Users/nyashasingh/opt/anaconda3/lib/python3.7/site-packages (from ipython>=4.0.0->ipywidgets>=7.0.0->swifter) (3.0.3)\n",
      "Requirement already satisfied: pickleshare in /Users/nyashasingh/opt/anaconda3/lib/python3.7/site-packages (from ipython>=4.0.0->ipywidgets>=7.0.0->swifter) (0.7.5)\n",
      "Requirement already satisfied: pygments in /Users/nyashasingh/opt/anaconda3/lib/python3.7/site-packages (from ipython>=4.0.0->ipywidgets>=7.0.0->swifter) (2.5.2)\n",
      "Requirement already satisfied: backcall in /Users/nyashasingh/opt/anaconda3/lib/python3.7/site-packages (from ipython>=4.0.0->ipywidgets>=7.0.0->swifter) (0.1.0)\n",
      "Requirement already satisfied: jedi>=0.10 in /Users/nyashasingh/opt/anaconda3/lib/python3.7/site-packages (from ipython>=4.0.0->ipywidgets>=7.0.0->swifter) (0.14.1)\n",
      "Requirement already satisfied: pexpect in /Users/nyashasingh/opt/anaconda3/lib/python3.7/site-packages (from ipython>=4.0.0->ipywidgets>=7.0.0->swifter) (4.8.0)\n",
      "Requirement already satisfied: jupyter-core in /Users/nyashasingh/opt/anaconda3/lib/python3.7/site-packages (from nbformat>=4.2.0->ipywidgets>=7.0.0->swifter) (4.6.1)\n",
      "Requirement already satisfied: jsonschema!=2.5.0,>=2.4 in /Users/nyashasingh/opt/anaconda3/lib/python3.7/site-packages (from nbformat>=4.2.0->ipywidgets>=7.0.0->swifter) (3.2.0)\n",
      "Requirement already satisfied: ipython-genutils in /Users/nyashasingh/opt/anaconda3/lib/python3.7/site-packages (from nbformat>=4.2.0->ipywidgets>=7.0.0->swifter) (0.2.0)\n",
      "Requirement already satisfied: locket in /Users/nyashasingh/opt/anaconda3/lib/python3.7/site-packages (from partd>=0.3.10->dask[dataframe]>=2.10.0->swifter) (0.2.0)\n",
      "Requirement already satisfied: notebook>=4.4.1 in /Users/nyashasingh/opt/anaconda3/lib/python3.7/site-packages (from widgetsnbextension~=3.5.0->ipywidgets>=7.0.0->swifter) (6.0.3)\n",
      "Requirement already satisfied: attrs>=17.4.0 in /Users/nyashasingh/opt/anaconda3/lib/python3.7/site-packages (from jsonschema!=2.5.0,>=2.4->nbformat>=4.2.0->ipywidgets>=7.0.0->swifter) (19.3.0)\n",
      "Requirement already satisfied: importlib-metadata in /Users/nyashasingh/opt/anaconda3/lib/python3.7/site-packages (from jsonschema!=2.5.0,>=2.4->nbformat>=4.2.0->ipywidgets>=7.0.0->swifter) (4.11.3)\n",
      "Requirement already satisfied: pyrsistent>=0.14.0 in /Users/nyashasingh/opt/anaconda3/lib/python3.7/site-packages (from jsonschema!=2.5.0,>=2.4->nbformat>=4.2.0->ipywidgets>=7.0.0->swifter) (0.15.7)\n",
      "Requirement already satisfied: jinja2 in /Users/nyashasingh/opt/anaconda3/lib/python3.7/site-packages (from notebook>=4.4.1->widgetsnbextension~=3.5.0->ipywidgets>=7.0.0->swifter) (2.11.1)\n",
      "Requirement already satisfied: terminado>=0.8.1 in /Users/nyashasingh/opt/anaconda3/lib/python3.7/site-packages (from notebook>=4.4.1->widgetsnbextension~=3.5.0->ipywidgets>=7.0.0->swifter) (0.8.3)\n",
      "Requirement already satisfied: Send2Trash in /Users/nyashasingh/opt/anaconda3/lib/python3.7/site-packages (from notebook>=4.4.1->widgetsnbextension~=3.5.0->ipywidgets>=7.0.0->swifter) (1.5.0)\n",
      "Requirement already satisfied: nbconvert in /Users/nyashasingh/opt/anaconda3/lib/python3.7/site-packages (from notebook>=4.4.1->widgetsnbextension~=3.5.0->ipywidgets>=7.0.0->swifter) (5.6.1)\n",
      "Requirement already satisfied: prometheus-client in /Users/nyashasingh/opt/anaconda3/lib/python3.7/site-packages (from notebook>=4.4.1->widgetsnbextension~=3.5.0->ipywidgets>=7.0.0->swifter) (0.7.1)\n",
      "Requirement already satisfied: pyzmq>=17 in /Users/nyashasingh/opt/anaconda3/lib/python3.7/site-packages (from notebook>=4.4.1->widgetsnbextension~=3.5.0->ipywidgets>=7.0.0->swifter) (18.1.1)\n",
      "Requirement already satisfied: wcwidth in /Users/nyashasingh/opt/anaconda3/lib/python3.7/site-packages (from prompt-toolkit!=3.0.0,!=3.0.1,<3.1.0,>=2.0.0->ipython>=4.0.0->ipywidgets>=7.0.0->swifter) (0.1.8)\n",
      "Requirement already satisfied: ptyprocess>=0.5 in /Users/nyashasingh/opt/anaconda3/lib/python3.7/site-packages (from pexpect->ipython>=4.0.0->ipywidgets>=7.0.0->swifter) (0.6.0)\n",
      "Requirement already satisfied: typing-extensions>=3.6.4 in /Users/nyashasingh/opt/anaconda3/lib/python3.7/site-packages (from importlib-metadata->jsonschema!=2.5.0,>=2.4->nbformat>=4.2.0->ipywidgets>=7.0.0->swifter) (3.10.0.2)\n",
      "Requirement already satisfied: zipp>=0.5 in /Users/nyashasingh/opt/anaconda3/lib/python3.7/site-packages (from importlib-metadata->jsonschema!=2.5.0,>=2.4->nbformat>=4.2.0->ipywidgets>=7.0.0->swifter) (2.2.0)\n",
      "Requirement already satisfied: MarkupSafe>=0.23 in /Users/nyashasingh/opt/anaconda3/lib/python3.7/site-packages (from jinja2->notebook>=4.4.1->widgetsnbextension~=3.5.0->ipywidgets>=7.0.0->swifter) (1.1.1)\n",
      "Requirement already satisfied: testpath in /Users/nyashasingh/opt/anaconda3/lib/python3.7/site-packages (from nbconvert->notebook>=4.4.1->widgetsnbextension~=3.5.0->ipywidgets>=7.0.0->swifter) (0.4.4)\n",
      "Requirement already satisfied: pandocfilters>=1.4.1 in /Users/nyashasingh/opt/anaconda3/lib/python3.7/site-packages (from nbconvert->notebook>=4.4.1->widgetsnbextension~=3.5.0->ipywidgets>=7.0.0->swifter) (1.4.2)\n",
      "Requirement already satisfied: mistune<2,>=0.8.1 in /Users/nyashasingh/opt/anaconda3/lib/python3.7/site-packages (from nbconvert->notebook>=4.4.1->widgetsnbextension~=3.5.0->ipywidgets>=7.0.0->swifter) (0.8.4)\n",
      "Requirement already satisfied: entrypoints>=0.2.2 in /Users/nyashasingh/opt/anaconda3/lib/python3.7/site-packages (from nbconvert->notebook>=4.4.1->widgetsnbextension~=3.5.0->ipywidgets>=7.0.0->swifter) (0.3)\n",
      "Requirement already satisfied: defusedxml in /Users/nyashasingh/opt/anaconda3/lib/python3.7/site-packages (from nbconvert->notebook>=4.4.1->widgetsnbextension~=3.5.0->ipywidgets>=7.0.0->swifter) (0.6.0)\n"
     ]
    }
   ],
   "source": [
    "# Import the necessary libraries for cleanup\n",
    "nltk.download('stopwords')\n",
    "nltk.download('punkt')\n",
    "nltk.download('averaged_perceptron_tagger')\n",
    "nltk.download('wordnet')\n",
    "\n",
    "!pip install swifter"
   ]
  },
  {
   "cell_type": "code",
   "execution_count": 18,
   "metadata": {},
   "outputs": [],
   "source": [
    "from nltk.corpus import stopwords\n",
    "from nltk.tokenize import word_tokenize\n",
    "from nltk.stem import WordNetLemmatizer\n",
    "from nltk import pos_tag\n",
    "import swifter # Importing \"swifter\" to speed up lemmatization using mutithread processing."
   ]
  },
  {
   "cell_type": "code",
   "execution_count": 19,
   "metadata": {},
   "outputs": [],
   "source": [
    "# Function to lemmatize the word\n",
    "stopwords = stopwords.words('english')\n",
    "wordnet_lem = WordNetLemmatizer()\n",
    "\n",
    "def lemmatize_text(text):\n",
    "    tokens = word_tokenize(text)\n",
    "    tokens = [word for word in tokens if word not in stopwords]\n",
    "    proc_token = []\n",
    "    for word,pos in pos_tag(tokens):\n",
    "        try:\n",
    "            proc_token.append(wordnet_lem.lemmatize(word,pos = pos[0].lower()))\n",
    "        except:\n",
    "            proc_token.append(wordnet_lem.lemmatize(word))\n",
    "    lemmatized_value = ' '.join(proc_token)\n",
    "    return lemmatized_value"
   ]
  },
  {
   "cell_type": "code",
   "execution_count": 20,
   "metadata": {
    "id": "uXnN7aa_JrF0"
   },
   "outputs": [
    {
     "data": {
      "application/vnd.jupyter.widget-view+json": {
       "model_id": "95eb8d63658848df89b07177798ba6cc",
       "version_major": 2,
       "version_minor": 0
      },
      "text/plain": [
       "HBox(children=(FloatProgress(value=0.0, description='Pandas Apply', max=21072.0, style=ProgressStyle(descripti…"
      ]
     },
     "metadata": {},
     "output_type": "display_data"
    },
    {
     "name": "stdout",
     "output_type": "stream",
     "text": [
      "\n"
     ]
    },
    {
     "name": "stderr",
     "output_type": "stream",
     "text": [
      "/Users/nyashasingh/opt/anaconda3/lib/python3.7/site-packages/ipykernel_launcher.py:5: SettingWithCopyWarning:\n",
      "\n",
      "\n",
      "A value is trying to be set on a copy of a slice from a DataFrame.\n",
      "Try using .loc[row_indexer,col_indexer] = value instead\n",
      "\n",
      "See the caveats in the documentation: https://pandas.pydata.org/pandas-docs/stable/user_guide/indexing.html#returning-a-view-versus-a-copy\n",
      "\n"
     ]
    }
   ],
   "source": [
    "#Create a dataframe('df_clean') that will have only the complaints and the lemmatized complaints \n",
    "\n",
    "df_clean = df[[\"complaint\",\"complaint_cleaned\"]]\n",
    "# Apply lemmatization and store the output in a separate column\n",
    "df_clean[\"complaint_lemmatized\"] = df_clean[\"complaint_cleaned\"].swifter.apply(lemmatize_text)"
   ]
  },
  {
   "cell_type": "code",
   "execution_count": 21,
   "metadata": {
    "id": "nOiDVvEIJrF0"
   },
   "outputs": [
    {
     "data": {
      "text/html": [
       "<div>\n",
       "<style scoped>\n",
       "    .dataframe tbody tr th:only-of-type {\n",
       "        vertical-align: middle;\n",
       "    }\n",
       "\n",
       "    .dataframe tbody tr th {\n",
       "        vertical-align: top;\n",
       "    }\n",
       "\n",
       "    .dataframe thead th {\n",
       "        text-align: right;\n",
       "    }\n",
       "</style>\n",
       "<table border=\"1\" class=\"dataframe\">\n",
       "  <thead>\n",
       "    <tr style=\"text-align: right;\">\n",
       "      <th></th>\n",
       "      <th>complaint</th>\n",
       "      <th>complaint_cleaned</th>\n",
       "      <th>complaint_lemmatized</th>\n",
       "    </tr>\n",
       "  </thead>\n",
       "  <tbody>\n",
       "    <tr>\n",
       "      <th>1</th>\n",
       "      <td>Good morning my name is XXXX XXXX and I apprec...</td>\n",
       "      <td>good morning my name is xxxx xxxx and i apprec...</td>\n",
       "      <td>good morning name xxxx xxxx appreciate could h...</td>\n",
       "    </tr>\n",
       "    <tr>\n",
       "      <th>2</th>\n",
       "      <td>I upgraded my XXXX XXXX card in XX/XX/2018 and...</td>\n",
       "      <td>i upgraded my xxxx xxxx card in  and was told ...</td>\n",
       "      <td>upgraded xxxx xxxx card tell agent upgrade ann...</td>\n",
       "    </tr>\n",
       "    <tr>\n",
       "      <th>10</th>\n",
       "      <td>Chase Card was reported on XX/XX/2019. However...</td>\n",
       "      <td>chase card was reported on  however fraudulent...</td>\n",
       "      <td>chase card report however fraudulent applicati...</td>\n",
       "    </tr>\n",
       "    <tr>\n",
       "      <th>11</th>\n",
       "      <td>On XX/XX/2018, while trying to book a XXXX  XX...</td>\n",
       "      <td>on  while trying to book a xxxx  xxxx  ticket ...</td>\n",
       "      <td>try book xxxx xxxx ticket come across offer ap...</td>\n",
       "    </tr>\n",
       "    <tr>\n",
       "      <th>14</th>\n",
       "      <td>my grand son give me check for {$1600.00} i de...</td>\n",
       "      <td>my grand son give me check for  i deposit it i...</td>\n",
       "      <td>grand son give check deposit chase account fun...</td>\n",
       "    </tr>\n",
       "    <tr>\n",
       "      <th>...</th>\n",
       "      <td>...</td>\n",
       "      <td>...</td>\n",
       "      <td>...</td>\n",
       "    </tr>\n",
       "    <tr>\n",
       "      <th>78303</th>\n",
       "      <td>After being a Chase Card customer for well ove...</td>\n",
       "      <td>after being a chase card customer for well ove...</td>\n",
       "      <td>chase card customer well decade offer multiple...</td>\n",
       "    </tr>\n",
       "    <tr>\n",
       "      <th>78309</th>\n",
       "      <td>On Wednesday, XX/XX/XXXX I called Chas, my XXX...</td>\n",
       "      <td>on wednesday xxxxxxxx i called chas my xxxx xx...</td>\n",
       "      <td>wednesday xxxxxxxx call chas xxxx xxxx visa cr...</td>\n",
       "    </tr>\n",
       "    <tr>\n",
       "      <th>78310</th>\n",
       "      <td>I am not familiar with XXXX pay and did not un...</td>\n",
       "      <td>i am not familiar with xxxx pay and did not un...</td>\n",
       "      <td>familiar xxxx pay understand great risk provid...</td>\n",
       "    </tr>\n",
       "    <tr>\n",
       "      <th>78311</th>\n",
       "      <td>I have had flawless credit for 30 yrs. I've ha...</td>\n",
       "      <td>i have had flawless credit for  yrs ive had ch...</td>\n",
       "      <td>flawless credit yrs ive chase credit card chas...</td>\n",
       "    </tr>\n",
       "    <tr>\n",
       "      <th>78312</th>\n",
       "      <td>Roughly 10+ years ago I closed out my accounts...</td>\n",
       "      <td>roughly  years ago i closed out my accounts wi...</td>\n",
       "      <td>roughly year ago close account jp morgan chase...</td>\n",
       "    </tr>\n",
       "  </tbody>\n",
       "</table>\n",
       "<p>21072 rows × 3 columns</p>\n",
       "</div>"
      ],
      "text/plain": [
       "                                               complaint  \\\n",
       "1      Good morning my name is XXXX XXXX and I apprec...   \n",
       "2      I upgraded my XXXX XXXX card in XX/XX/2018 and...   \n",
       "10     Chase Card was reported on XX/XX/2019. However...   \n",
       "11     On XX/XX/2018, while trying to book a XXXX  XX...   \n",
       "14     my grand son give me check for {$1600.00} i de...   \n",
       "...                                                  ...   \n",
       "78303  After being a Chase Card customer for well ove...   \n",
       "78309  On Wednesday, XX/XX/XXXX I called Chas, my XXX...   \n",
       "78310  I am not familiar with XXXX pay and did not un...   \n",
       "78311  I have had flawless credit for 30 yrs. I've ha...   \n",
       "78312  Roughly 10+ years ago I closed out my accounts...   \n",
       "\n",
       "                                       complaint_cleaned  \\\n",
       "1      good morning my name is xxxx xxxx and i apprec...   \n",
       "2      i upgraded my xxxx xxxx card in  and was told ...   \n",
       "10     chase card was reported on  however fraudulent...   \n",
       "11     on  while trying to book a xxxx  xxxx  ticket ...   \n",
       "14     my grand son give me check for  i deposit it i...   \n",
       "...                                                  ...   \n",
       "78303  after being a chase card customer for well ove...   \n",
       "78309  on wednesday xxxxxxxx i called chas my xxxx xx...   \n",
       "78310  i am not familiar with xxxx pay and did not un...   \n",
       "78311  i have had flawless credit for  yrs ive had ch...   \n",
       "78312  roughly  years ago i closed out my accounts wi...   \n",
       "\n",
       "                                    complaint_lemmatized  \n",
       "1      good morning name xxxx xxxx appreciate could h...  \n",
       "2      upgraded xxxx xxxx card tell agent upgrade ann...  \n",
       "10     chase card report however fraudulent applicati...  \n",
       "11     try book xxxx xxxx ticket come across offer ap...  \n",
       "14     grand son give check deposit chase account fun...  \n",
       "...                                                  ...  \n",
       "78303  chase card customer well decade offer multiple...  \n",
       "78309  wednesday xxxxxxxx call chas xxxx xxxx visa cr...  \n",
       "78310  familiar xxxx pay understand great risk provid...  \n",
       "78311  flawless credit yrs ive chase credit card chas...  \n",
       "78312  roughly year ago close account jp morgan chase...  \n",
       "\n",
       "[21072 rows x 3 columns]"
      ]
     },
     "execution_count": 21,
     "metadata": {},
     "output_type": "execute_result"
    }
   ],
   "source": [
    "df_clean"
   ]
  },
  {
   "cell_type": "code",
   "execution_count": 23,
   "metadata": {
    "id": "Kk7fc4DuJrF1"
   },
   "outputs": [
    {
     "name": "stderr",
     "output_type": "stream",
     "text": [
      "100%|██████████| 21072/21072 [05:33<00:00, 63.16it/s]\n"
     ]
    }
   ],
   "source": [
    "#Write your function to extract the POS tags \n",
    "nlp = spacy.load(\"en_core_web_sm\")\n",
    "\n",
    "from tqdm import tqdm\n",
    "pos_tags = []\n",
    "word_nouns = []\n",
    "\n",
    "for complaint in tqdm(df_clean['complaint_lemmatized']):\n",
    "    pos_tag = ''\n",
    "    word_noun = ''\n",
    "    proc_complaint = nlp(complaint)\n",
    "    for tok in proc_complaint:\n",
    "        pos_tag += tok.pos_ + ' '\n",
    "        if tok.pos_ in str(('NOUN', 'PROPN')) :\n",
    "            word_noun += (tok.lemma_.lower()) + ' '\n",
    "    pos_tags.append(pos_tag.strip())\n",
    "    word_nouns.append(word_noun.strip())"
   ]
  },
  {
   "cell_type": "code",
   "execution_count": 24,
   "metadata": {},
   "outputs": [
    {
     "name": "stderr",
     "output_type": "stream",
     "text": [
      "/Users/nyashasingh/opt/anaconda3/lib/python3.7/site-packages/ipykernel_launcher.py:2: SettingWithCopyWarning:\n",
      "\n",
      "\n",
      "A value is trying to be set on a copy of a slice from a DataFrame.\n",
      "Try using .loc[row_indexer,col_indexer] = value instead\n",
      "\n",
      "See the caveats in the documentation: https://pandas.pydata.org/pandas-docs/stable/user_guide/indexing.html#returning-a-view-versus-a-copy\n",
      "\n",
      "/Users/nyashasingh/opt/anaconda3/lib/python3.7/site-packages/ipykernel_launcher.py:3: SettingWithCopyWarning:\n",
      "\n",
      "\n",
      "A value is trying to be set on a copy of a slice from a DataFrame.\n",
      "Try using .loc[row_indexer,col_indexer] = value instead\n",
      "\n",
      "See the caveats in the documentation: https://pandas.pydata.org/pandas-docs/stable/user_guide/indexing.html#returning-a-view-versus-a-copy\n",
      "\n"
     ]
    }
   ],
   "source": [
    "#this column should contain lemmatized text with all the words removed which have tags other than NN[tag == \"NN\"].\n",
    "df_clean['complaint_POS_lemmatized'] = pd.Series(pos_tags, index=df_clean.index)\n",
    "df_clean['complaint_POS_removed'] = pd.Series(word_nouns, index=df_clean.index)\n",
    "\n",
    "#Reassigning index of cleaned dataframe\n",
    "df_clean.reset_index(drop=True, inplace = True)"
   ]
  },
  {
   "cell_type": "code",
   "execution_count": 25,
   "metadata": {
    "id": "AjxfchvFJrF2"
   },
   "outputs": [
    {
     "data": {
      "text/html": [
       "<div>\n",
       "<style scoped>\n",
       "    .dataframe tbody tr th:only-of-type {\n",
       "        vertical-align: middle;\n",
       "    }\n",
       "\n",
       "    .dataframe tbody tr th {\n",
       "        vertical-align: top;\n",
       "    }\n",
       "\n",
       "    .dataframe thead th {\n",
       "        text-align: right;\n",
       "    }\n",
       "</style>\n",
       "<table border=\"1\" class=\"dataframe\">\n",
       "  <thead>\n",
       "    <tr style=\"text-align: right;\">\n",
       "      <th></th>\n",
       "      <th>complaint</th>\n",
       "      <th>complaint_cleaned</th>\n",
       "      <th>complaint_lemmatized</th>\n",
       "      <th>complaint_POS_lemmatized</th>\n",
       "      <th>complaint_POS_removed</th>\n",
       "    </tr>\n",
       "  </thead>\n",
       "  <tbody>\n",
       "    <tr>\n",
       "      <th>0</th>\n",
       "      <td>Good morning my name is XXXX XXXX and I apprec...</td>\n",
       "      <td>good morning my name is xxxx xxxx and i apprec...</td>\n",
       "      <td>good morning name xxxx xxxx appreciate could h...</td>\n",
       "      <td>ADJ NOUN NOUN PROPN PROPN VERB AUX VERB VERB V...</td>\n",
       "      <td>morning name xxxx xxxx chase bank cardmember s...</td>\n",
       "    </tr>\n",
       "    <tr>\n",
       "      <th>1</th>\n",
       "      <td>I upgraded my XXXX XXXX card in XX/XX/2018 and...</td>\n",
       "      <td>i upgraded my xxxx xxxx card in  and was told ...</td>\n",
       "      <td>upgraded xxxx xxxx card tell agent upgrade ann...</td>\n",
       "      <td>VERB ADJ PROPN PROPN VERB NOUN VERB NOUN NOUN ...</td>\n",
       "      <td>xxxx card agent anniversary date agent informa...</td>\n",
       "    </tr>\n",
       "    <tr>\n",
       "      <th>2</th>\n",
       "      <td>Chase Card was reported on XX/XX/2019. However...</td>\n",
       "      <td>chase card was reported on  however fraudulent...</td>\n",
       "      <td>chase card report however fraudulent applicati...</td>\n",
       "      <td>PROPN NOUN NOUN ADV ADJ NOUN NOUN NOUN ADP NOU...</td>\n",
       "      <td>chase card report application submit identity ...</td>\n",
       "    </tr>\n",
       "    <tr>\n",
       "      <th>3</th>\n",
       "      <td>On XX/XX/2018, while trying to book a XXXX  XX...</td>\n",
       "      <td>on  while trying to book a xxxx  xxxx  ticket ...</td>\n",
       "      <td>try book xxxx xxxx ticket come across offer ap...</td>\n",
       "      <td>VERB NOUN ADJ PROPN NOUN VERB ADP NOUN VERB AD...</td>\n",
       "      <td>book xxxx ticket offer ticket reward card info...</td>\n",
       "    </tr>\n",
       "    <tr>\n",
       "      <th>4</th>\n",
       "      <td>my grand son give me check for {$1600.00} i de...</td>\n",
       "      <td>my grand son give me check for  i deposit it i...</td>\n",
       "      <td>grand son give check deposit chase account fun...</td>\n",
       "      <td>ADJ PROPN VERB NOUN NOUN PROPN PROPN PROPN PRO...</td>\n",
       "      <td>son check deposit chase account fund clear cha...</td>\n",
       "    </tr>\n",
       "    <tr>\n",
       "      <th>...</th>\n",
       "      <td>...</td>\n",
       "      <td>...</td>\n",
       "      <td>...</td>\n",
       "      <td>...</td>\n",
       "      <td>...</td>\n",
       "    </tr>\n",
       "    <tr>\n",
       "      <th>21067</th>\n",
       "      <td>After being a Chase Card customer for well ove...</td>\n",
       "      <td>after being a chase card customer for well ove...</td>\n",
       "      <td>chase card customer well decade offer multiple...</td>\n",
       "      <td>PROPN NOUN NOUN ADJ NOUN VERB ADJ NOUN VERB AD...</td>\n",
       "      <td>chase card customer decade solicitation credit...</td>\n",
       "    </tr>\n",
       "    <tr>\n",
       "      <th>21068</th>\n",
       "      <td>On Wednesday, XX/XX/XXXX I called Chas, my XXX...</td>\n",
       "      <td>on wednesday xxxxxxxx i called chas my xxxx xx...</td>\n",
       "      <td>wednesday xxxxxxxx call chas xxxx xxxx visa cr...</td>\n",
       "      <td>PROPN PROPN PROPN VERB PROPN PROPN PROPN NOUN ...</td>\n",
       "      <td>wednesday xxxxxxxx call xxxx xxxx visa credit ...</td>\n",
       "    </tr>\n",
       "    <tr>\n",
       "      <th>21069</th>\n",
       "      <td>I am not familiar with XXXX pay and did not un...</td>\n",
       "      <td>i am not familiar with xxxx pay and did not un...</td>\n",
       "      <td>familiar xxxx pay understand great risk provid...</td>\n",
       "      <td>ADJ PROPN VERB VERB ADJ NOUN VERB NOUN VERB AD...</td>\n",
       "      <td>xxxx risk consumer chase bank app chase year t...</td>\n",
       "    </tr>\n",
       "    <tr>\n",
       "      <th>21070</th>\n",
       "      <td>I have had flawless credit for 30 yrs. I've ha...</td>\n",
       "      <td>i have had flawless credit for  yrs ive had ch...</td>\n",
       "      <td>flawless credit yrs ive chase credit card chas...</td>\n",
       "      <td>PROPN NOUN PROPN PRON VERB NOUN NOUN NOUN NOUN...</td>\n",
       "      <td>flawless credit yrs chase credit card chase fr...</td>\n",
       "    </tr>\n",
       "    <tr>\n",
       "      <th>21071</th>\n",
       "      <td>Roughly 10+ years ago I closed out my accounts...</td>\n",
       "      <td>roughly  years ago i closed out my accounts wi...</td>\n",
       "      <td>roughly year ago close account jp morgan chase...</td>\n",
       "      <td>ADV NOUN ADV ADJ NOUN PROPN PROPN PROPN PROPN ...</td>\n",
       "      <td>year account jp morgan chase bank xxxx order l...</td>\n",
       "    </tr>\n",
       "  </tbody>\n",
       "</table>\n",
       "<p>21072 rows × 5 columns</p>\n",
       "</div>"
      ],
      "text/plain": [
       "                                               complaint  \\\n",
       "0      Good morning my name is XXXX XXXX and I apprec...   \n",
       "1      I upgraded my XXXX XXXX card in XX/XX/2018 and...   \n",
       "2      Chase Card was reported on XX/XX/2019. However...   \n",
       "3      On XX/XX/2018, while trying to book a XXXX  XX...   \n",
       "4      my grand son give me check for {$1600.00} i de...   \n",
       "...                                                  ...   \n",
       "21067  After being a Chase Card customer for well ove...   \n",
       "21068  On Wednesday, XX/XX/XXXX I called Chas, my XXX...   \n",
       "21069  I am not familiar with XXXX pay and did not un...   \n",
       "21070  I have had flawless credit for 30 yrs. I've ha...   \n",
       "21071  Roughly 10+ years ago I closed out my accounts...   \n",
       "\n",
       "                                       complaint_cleaned  \\\n",
       "0      good morning my name is xxxx xxxx and i apprec...   \n",
       "1      i upgraded my xxxx xxxx card in  and was told ...   \n",
       "2      chase card was reported on  however fraudulent...   \n",
       "3      on  while trying to book a xxxx  xxxx  ticket ...   \n",
       "4      my grand son give me check for  i deposit it i...   \n",
       "...                                                  ...   \n",
       "21067  after being a chase card customer for well ove...   \n",
       "21068  on wednesday xxxxxxxx i called chas my xxxx xx...   \n",
       "21069  i am not familiar with xxxx pay and did not un...   \n",
       "21070  i have had flawless credit for  yrs ive had ch...   \n",
       "21071  roughly  years ago i closed out my accounts wi...   \n",
       "\n",
       "                                    complaint_lemmatized  \\\n",
       "0      good morning name xxxx xxxx appreciate could h...   \n",
       "1      upgraded xxxx xxxx card tell agent upgrade ann...   \n",
       "2      chase card report however fraudulent applicati...   \n",
       "3      try book xxxx xxxx ticket come across offer ap...   \n",
       "4      grand son give check deposit chase account fun...   \n",
       "...                                                  ...   \n",
       "21067  chase card customer well decade offer multiple...   \n",
       "21068  wednesday xxxxxxxx call chas xxxx xxxx visa cr...   \n",
       "21069  familiar xxxx pay understand great risk provid...   \n",
       "21070  flawless credit yrs ive chase credit card chas...   \n",
       "21071  roughly year ago close account jp morgan chase...   \n",
       "\n",
       "                                complaint_POS_lemmatized  \\\n",
       "0      ADJ NOUN NOUN PROPN PROPN VERB AUX VERB VERB V...   \n",
       "1      VERB ADJ PROPN PROPN VERB NOUN VERB NOUN NOUN ...   \n",
       "2      PROPN NOUN NOUN ADV ADJ NOUN NOUN NOUN ADP NOU...   \n",
       "3      VERB NOUN ADJ PROPN NOUN VERB ADP NOUN VERB AD...   \n",
       "4      ADJ PROPN VERB NOUN NOUN PROPN PROPN PROPN PRO...   \n",
       "...                                                  ...   \n",
       "21067  PROPN NOUN NOUN ADJ NOUN VERB ADJ NOUN VERB AD...   \n",
       "21068  PROPN PROPN PROPN VERB PROPN PROPN PROPN NOUN ...   \n",
       "21069  ADJ PROPN VERB VERB ADJ NOUN VERB NOUN VERB AD...   \n",
       "21070  PROPN NOUN PROPN PRON VERB NOUN NOUN NOUN NOUN...   \n",
       "21071  ADV NOUN ADV ADJ NOUN PROPN PROPN PROPN PROPN ...   \n",
       "\n",
       "                                   complaint_POS_removed  \n",
       "0      morning name xxxx xxxx chase bank cardmember s...  \n",
       "1      xxxx card agent anniversary date agent informa...  \n",
       "2      chase card report application submit identity ...  \n",
       "3      book xxxx ticket offer ticket reward card info...  \n",
       "4      son check deposit chase account fund clear cha...  \n",
       "...                                                  ...  \n",
       "21067  chase card customer decade solicitation credit...  \n",
       "21068  wednesday xxxxxxxx call xxxx xxxx visa credit ...  \n",
       "21069  xxxx risk consumer chase bank app chase year t...  \n",
       "21070  flawless credit yrs chase credit card chase fr...  \n",
       "21071  year account jp morgan chase bank xxxx order l...  \n",
       "\n",
       "[21072 rows x 5 columns]"
      ]
     },
     "execution_count": 25,
     "metadata": {},
     "output_type": "execute_result"
    }
   ],
   "source": [
    "#The clean dataframe should now contain the raw complaint, lemmatized complaint and the complaint after removing POS tags.\n",
    "df_clean"
   ]
  },
  {
   "cell_type": "markdown",
   "metadata": {
    "id": "_7Un1AElJrF2"
   },
   "source": [
    "## Exploratory data analysis to get familiar with the data.\n",
    "\n",
    "Write the code in this task to perform the following:\n",
    "\n",
    "*   Visualise the data according to the 'Complaint' character length\n",
    "*   Using a word cloud find the top 40 words by frequency among all the articles after processing the text\n",
    "*   Find the top unigrams,bigrams and trigrams by frequency among all the complaints after processing the text. ‘\n",
    "\n",
    "\n"
   ]
  },
  {
   "cell_type": "code",
   "execution_count": null,
   "metadata": {
    "id": "q-zaqJF6JrF2"
   },
   "outputs": [],
   "source": [
    "# Write your code here to visualise the data according to the 'Complaint' character length\n",
    "df_clean['complaint_POS_removed'].str.len().sort_values(ascending=False)"
   ]
  },
  {
   "cell_type": "code",
   "execution_count": null,
   "metadata": {},
   "outputs": [],
   "source": [
    "#Visualize the code in bins\n",
    "bins = [0, 100, 500, 1000, 5000, 10000, 50000]\n",
    "temp_df = df_clean['complaintwhathappened'].str.len().to_frame()\n",
    "temp_df.columns = [\"length\"]\n",
    "temp_df['binned'] = pd.cut(temp_df['length'], bins)\n",
    "temp_df.binned.value_counts()\n",
    "\n",
    "plt.figure(figsize=(12,8))\n",
    "temp_df.binned.value_counts().plot(kind=\"bar\")\n",
    "plt.title(\"Complaint count by character length\")\n",
    "plt.xlabel(\"Complaint Character length ranges\")"
   ]
  },
  {
   "cell_type": "markdown",
   "metadata": {
    "id": "T9jD_6SeJrF3"
   },
   "source": [
    "#### Find the top 40 words by frequency among all the articles after processing the text."
   ]
  },
  {
   "cell_type": "code",
   "execution_count": null,
   "metadata": {
    "id": "QcfdvtfZJrF3"
   },
   "outputs": [],
   "source": [
    "# Most frequent words in the processed (lemmatized) complaints\n",
    "\n",
    "most_freq_lem=[]\n",
    "for complaint in df_clean['complaint_POS_removed']:\n",
    "    for word in complaint.split(' '):\n",
    "        most_freq_lem.append(word)\n",
    "\n",
    "plt.figure(figsize=(20, 5)) \n",
    "pd.DataFrame(most_freq_lem)[0].value_counts().head(40).plot(kind='bar')\n",
    "plt.title(\"Most frequent words in complaints after processing\")"
   ]
  },
  {
   "cell_type": "code",
   "execution_count": null,
   "metadata": {},
   "outputs": [],
   "source": []
  },
  {
   "cell_type": "markdown",
   "metadata": {},
   "source": [
    "#### Using a word cloud find the top 40 words by frequency among all the articles after processing the text"
   ]
  },
  {
   "cell_type": "code",
   "execution_count": null,
   "metadata": {},
   "outputs": [],
   "source": [
    "!pip install wordcloud"
   ]
  },
  {
   "cell_type": "code",
   "execution_count": null,
   "metadata": {},
   "outputs": [],
   "source": [
    "from wordcloud import WordCloud\n",
    "\n",
    "plt.figure(figsize=(12, 12))\n",
    "wordcloud = WordCloud(background_color = 'white', width = 2000, height = 1000, max_words = 50, contour_width = 3, colormap = 'viridis', max_font_size = 150, contour_color = 'steelblue', random_state = 0)\n",
    "\n",
    "most_freq_words = pd.DataFrame(most_freq_lem)[0].value_counts().head(40).index\n",
    "wordcloud.generate(' '.join([w for w in most_freq_words]))\n",
    "\n",
    "plt.imshow(wordcloud)\n",
    "plt.title(\"Most frequent words in the processed complaints\")\n",
    "plt.show()"
   ]
  },
  {
   "cell_type": "code",
   "execution_count": null,
   "metadata": {},
   "outputs": [],
   "source": [
    "# Most frequent nouns in the processed complaints\n",
    "\n",
    "most_freq_nouns_in_complaints=[] \n",
    "for complaint in df_clean.complaint_POS_removed:\n",
    "    for word in complaint.split(' '):\n",
    "        most_freq_nouns_in_complaints.append(word)\n",
    "\n",
    "plt.figure(figsize=(20, 5)) \n",
    "pd.DataFrame(most_freq_nouns_in_complaints)[0].value_counts().head(40).plot(kind='bar')\n",
    "plt.title(\"Most frequent nouns in complaint dataset\")\n",
    "plt.show()"
   ]
  },
  {
   "cell_type": "code",
   "execution_count": null,
   "metadata": {},
   "outputs": [],
   "source": []
  },
  {
   "cell_type": "code",
   "execution_count": null,
   "metadata": {
    "id": "OkSmc3UaJrF4"
   },
   "outputs": [],
   "source": [
    "#Removing -PRON- from the text corpus\n",
    "df_clean['Complaint_clean'] = df_clean['complaint_POS_removed'].str.replace('-PRON-', '')"
   ]
  },
  {
   "cell_type": "markdown",
   "metadata": {
    "id": "5DfCSbbmJrF4"
   },
   "source": [
    "#### Find the top unigrams,bigrams and trigrams by frequency among all the complaints after processing the text."
   ]
  },
  {
   "cell_type": "code",
   "execution_count": null,
   "metadata": {
    "id": "5mbk5DS5JrF4"
   },
   "outputs": [],
   "source": [
    "#Write your code here to find the top 30 unigram frequency among the complaints in the cleaned datafram(df_clean). \n"
   ]
  },
  {
   "cell_type": "code",
   "execution_count": null,
   "metadata": {
    "id": "YX7fedm1JrF8"
   },
   "outputs": [],
   "source": [
    "#Print the top 10 words in the unigram frequency\n"
   ]
  },
  {
   "cell_type": "code",
   "execution_count": null,
   "metadata": {
    "id": "aV7kD7w8JrF8"
   },
   "outputs": [],
   "source": [
    "#Write your code here to find the top 30 bigram frequency among the complaints in the cleaned datafram(df_clean). \n"
   ]
  },
  {
   "cell_type": "code",
   "execution_count": null,
   "metadata": {
    "id": "NPnMNIpyJrF9"
   },
   "outputs": [],
   "source": [
    "#Print the top 10 words in the bigram frequency"
   ]
  },
  {
   "cell_type": "code",
   "execution_count": null,
   "metadata": {
    "id": "Xkh7vtbtJrF-"
   },
   "outputs": [],
   "source": [
    "#Write your code here to find the top 30 trigram frequency among the complaints in the cleaned datafram(df_clean). \n"
   ]
  },
  {
   "cell_type": "code",
   "execution_count": null,
   "metadata": {
    "id": "REcVxNfvJrF-"
   },
   "outputs": [],
   "source": [
    "#Print the top 10 words in the trigram frequency"
   ]
  },
  {
   "cell_type": "markdown",
   "metadata": {
    "id": "yUXzFji0JrF_"
   },
   "source": [
    "## The personal details of customer has been masked in the dataset with xxxx. Let's remove the masked text as this will be of no use for our analysis"
   ]
  },
  {
   "cell_type": "code",
   "execution_count": null,
   "metadata": {
    "id": "wKda-a_IJrF_"
   },
   "outputs": [],
   "source": [
    "df_clean['Complaint_clean'] = df_clean['Complaint_clean'].str.replace('xxxx','')"
   ]
  },
  {
   "cell_type": "code",
   "execution_count": null,
   "metadata": {
    "id": "9UIFk8fQJrF_"
   },
   "outputs": [],
   "source": [
    "#All masked texts has been removed\n",
    "df_clean"
   ]
  },
  {
   "cell_type": "markdown",
   "metadata": {
    "id": "k-I0k0QtJrGA"
   },
   "source": [
    "## Feature Extraction\n",
    "Convert the raw texts to a matrix of TF-IDF features\n",
    "\n",
    "**max_df** is used for removing terms that appear too frequently, also known as \"corpus-specific stop words\"\n",
    "max_df = 0.95 means \"ignore terms that appear in more than 95% of the complaints\"\n",
    "\n",
    "**min_df** is used for removing terms that appear too infrequently\n",
    "min_df = 2 means \"ignore terms that appear in less than 2 complaints\""
   ]
  },
  {
   "cell_type": "code",
   "execution_count": null,
   "metadata": {
    "id": "Y8fGwaCPJrGA"
   },
   "outputs": [],
   "source": [
    "#Write your code here to initialise the TfidfVectorizer \n",
    "\n"
   ]
  },
  {
   "cell_type": "markdown",
   "metadata": {
    "id": "yYzD85nTJrGA"
   },
   "source": [
    "#### Create a document term matrix using fit_transform\n",
    "\n",
    "The contents of a document term matrix are tuples of (complaint_id,token_id) tf-idf score:\n",
    "The tuples that are not there have a tf-idf score of 0"
   ]
  },
  {
   "cell_type": "code",
   "execution_count": null,
   "metadata": {
    "id": "ffzdDpp_JrGB"
   },
   "outputs": [],
   "source": [
    "#Write your code here to create the Document Term Matrix by transforming the complaints column present in df_clean.\n"
   ]
  },
  {
   "cell_type": "markdown",
   "metadata": {
    "id": "7Q9lwvNEJrGB"
   },
   "source": [
    "## Topic Modelling using NMF\n",
    "\n",
    "Non-Negative Matrix Factorization (NMF) is an unsupervised technique so there are no labeling of topics that the model will be trained on. The way it works is that, NMF decomposes (or factorizes) high-dimensional vectors into a lower-dimensional representation. These lower-dimensional vectors are non-negative which also means their coefficients are non-negative.\n",
    "\n",
    "In this task you have to perform the following:\n",
    "\n",
    "* Find the best number of clusters \n",
    "* Apply the best number to create word clusters\n",
    "* Inspect & validate the correction of each cluster wrt the complaints \n",
    "* Correct the labels if needed \n",
    "* Map the clusters to topics/cluster names"
   ]
  },
  {
   "cell_type": "code",
   "execution_count": null,
   "metadata": {
    "id": "amLT4omWJrGB"
   },
   "outputs": [],
   "source": [
    "from sklearn.decomposition import NMF"
   ]
  },
  {
   "cell_type": "markdown",
   "metadata": {
    "id": "0wYR1xUTJrGD"
   },
   "source": [
    "## Manual Topic Modeling\n",
    "You need to do take the trial & error approach to find the best num of topics for your NMF model.\n",
    "\n",
    "The only parameter that is required is the number of components i.e. the number of topics we want. This is the most crucial step in the whole topic modeling process and will greatly affect how good your final topics are."
   ]
  },
  {
   "cell_type": "code",
   "execution_count": null,
   "metadata": {
    "id": "sgd2A6bhJrGD"
   },
   "outputs": [],
   "source": [
    "#Load your nmf_model with the n_components i.e 5\n",
    "num_topics = #write the value you want to test out\n",
    "\n",
    "#keep the random_state =40\n",
    "nmf_model = #write your code here"
   ]
  },
  {
   "cell_type": "code",
   "execution_count": null,
   "metadata": {
    "id": "VPMDYbt_JrGE"
   },
   "outputs": [],
   "source": [
    "nmf_model.fit(dtm)\n",
    "len(tfidf.get_feature_names())"
   ]
  },
  {
   "cell_type": "code",
   "execution_count": null,
   "metadata": {
    "id": "16kRfat5JrGE"
   },
   "outputs": [],
   "source": [
    "#Print the Top15 words for each of the topics\n"
   ]
  },
  {
   "cell_type": "code",
   "execution_count": null,
   "metadata": {
    "id": "0OIT7LmFJrGF"
   },
   "outputs": [],
   "source": [
    "#Create the best topic for each complaint in terms of integer value 0,1,2,3 & 4\n",
    "\n"
   ]
  },
  {
   "cell_type": "code",
   "execution_count": null,
   "metadata": {
    "id": "peyYv-ORJrGF"
   },
   "outputs": [],
   "source": [
    "#Assign the best topic to each of the cmplaints in Topic Column\n",
    "\n",
    "df_clean['Topic'] = #write your code to assign topics to each rows."
   ]
  },
  {
   "cell_type": "code",
   "execution_count": null,
   "metadata": {
    "id": "fLh_Gf3nJrGF"
   },
   "outputs": [],
   "source": [
    "df_clean.head()"
   ]
  },
  {
   "cell_type": "code",
   "execution_count": null,
   "metadata": {
    "id": "aQKpufSPJrGG"
   },
   "outputs": [],
   "source": [
    "#Print the first 5 Complaint for each of the Topics\n",
    "df_clean=df_clean.groupby('Topic').head(5)\n",
    "df_clean.sort_values('Topic')"
   ]
  },
  {
   "cell_type": "markdown",
   "metadata": {
    "id": "piyLxzj6v07j"
   },
   "source": [
    "#### After evaluating the mapping, if the topics assigned are correct then assign these names to the relevant topic:\n",
    "* Bank Account services\n",
    "* Credit card or prepaid card\n",
    "* Theft/Dispute Reporting\n",
    "* Mortgage/Loan\n",
    "* Others"
   ]
  },
  {
   "cell_type": "code",
   "execution_count": null,
   "metadata": {
    "id": "TWpwDG4RJrGG"
   },
   "outputs": [],
   "source": [
    "#Create the dictionary of Topic names and Topics\n",
    "\n",
    "Topic_names = {   }\n",
    "#Replace Topics with Topic Names\n",
    "df_clean['Topic'] = df_clean['Topic'].map(Topic_names)"
   ]
  },
  {
   "cell_type": "code",
   "execution_count": null,
   "metadata": {
    "id": "-2ULY5K6JrGG"
   },
   "outputs": [],
   "source": [
    "df_clean"
   ]
  },
  {
   "cell_type": "markdown",
   "metadata": {
    "id": "7Mu0QBOcJrGH"
   },
   "source": [
    "## Supervised model to predict any new complaints to the relevant Topics.\n",
    "\n",
    "You have now build the model to create the topics for each complaints.Now in the below section you will use them to classify any new complaints.\n",
    "\n",
    "Since you will be using supervised learning technique we have to convert the topic names to numbers(numpy arrays only understand numbers)"
   ]
  },
  {
   "cell_type": "code",
   "execution_count": null,
   "metadata": {
    "id": "_U8J3J8wJrGH"
   },
   "outputs": [],
   "source": [
    "#Create the dictionary again of Topic names and Topics\n",
    "\n",
    "Topic_names = {   }\n",
    "#Replace Topics with Topic Names\n",
    "df_clean['Topic'] = df_clean['Topic'].map(Topic_names)"
   ]
  },
  {
   "cell_type": "code",
   "execution_count": null,
   "metadata": {
    "id": "BWIgJUkQJrGH"
   },
   "outputs": [],
   "source": [
    "df_clean"
   ]
  },
  {
   "cell_type": "code",
   "execution_count": null,
   "metadata": {
    "id": "Xx-FrbkWJrGH"
   },
   "outputs": [],
   "source": [
    "#Keep the columns\"complaint_what_happened\" & \"Topic\" only in the new dataframe --> training_data\n",
    "training_data="
   ]
  },
  {
   "cell_type": "code",
   "execution_count": null,
   "metadata": {
    "id": "lVg2pa12JrGI"
   },
   "outputs": [],
   "source": [
    "training_data"
   ]
  },
  {
   "cell_type": "markdown",
   "metadata": {
    "id": "280Vbqk-7a8M"
   },
   "source": [
    "####Apply the supervised models on the training data created. In this process, you have to do the following:\n",
    "* Create the vector counts using Count Vectoriser\n",
    "* Transform the word vecotr to tf-idf\n",
    "* Create the train & test data using the train_test_split on the tf-idf & topics\n"
   ]
  },
  {
   "cell_type": "code",
   "execution_count": null,
   "metadata": {
    "id": "oUlQpgkzJrGI"
   },
   "outputs": [],
   "source": [
    "\n",
    "#Write your code to get the Vector count\n",
    "\n",
    "\n",
    "#Write your code here to transform the word vector to tf-idf"
   ]
  },
  {
   "cell_type": "markdown",
   "metadata": {
    "id": "uMU3vj6w-wqL"
   },
   "source": [
    "You have to try atleast 3 models on the train & test data from these options:\n",
    "* Logistic regression\n",
    "* Decision Tree\n",
    "* Random Forest\n",
    "* Naive Bayes (optional)\n",
    "\n",
    "**Using the required evaluation metrics judge the tried models and select the ones performing the best**"
   ]
  },
  {
   "cell_type": "code",
   "execution_count": null,
   "metadata": {
    "id": "udLHpPsZJrGI"
   },
   "outputs": [],
   "source": [
    "# Write your code here to build any 3 models and evaluate them using the required metrics\n",
    "\n",
    "\n",
    "\n"
   ]
  },
  {
   "cell_type": "code",
   "execution_count": null,
   "metadata": {
    "id": "N2OznsObJrGP"
   },
   "outputs": [],
   "source": []
  }
 ],
 "metadata": {
  "colab": {
   "collapsed_sections": [
    "T9jD_6SeJrF3",
    "5DfCSbbmJrF4",
    "yYzD85nTJrGA",
    "piyLxzj6v07j",
    "280Vbqk-7a8M"
   ],
   "name": "Automatic_Ticket_Classification_Assignment.ipynb",
   "provenance": []
  },
  "kernelspec": {
   "display_name": "Python 3",
   "language": "python",
   "name": "python3"
  },
  "language_info": {
   "codemirror_mode": {
    "name": "ipython",
    "version": 3
   },
   "file_extension": ".py",
   "mimetype": "text/x-python",
   "name": "python",
   "nbconvert_exporter": "python",
   "pygments_lexer": "ipython3",
   "version": "3.7.6"
  }
 },
 "nbformat": 4,
 "nbformat_minor": 4
}
